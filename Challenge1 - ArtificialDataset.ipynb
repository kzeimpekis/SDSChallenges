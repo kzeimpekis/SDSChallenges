{
 "cells": [
  {
   "cell_type": "markdown",
   "metadata": {},
   "source": [
    "<h1 align=\"center\"> Creating the Artificial Dataset </h1>"
   ]
  },
  {
   "cell_type": "markdown",
   "metadata": {},
   "source": [
    "<h2> 1. Introduction </h2>"
   ]
  },
  {
   "cell_type": "markdown",
   "metadata": {},
   "source": [
    "In this notebook you can find analytical information of my approach in creating the ArtificialDataset based on the instructions of the provided Metadata file.\n",
    "My first step was to create the full Dataset, containing all the variables in the correct Data Type, and in the second step I created the missings values, by the given percentages.\n",
    "I followed this approach in order to avoid the creation of multiple missing values, as some of the variables are connected to each other."
   ]
  },
  {
   "cell_type": "markdown",
   "metadata": {},
   "source": [
    "<h2> 2. Creating the Full Dataset </h2>"
   ]
  },
  {
   "cell_type": "code",
   "execution_count": 1,
   "metadata": {},
   "outputs": [],
   "source": [
    "#Display the numbers without the scientific format\n",
    "options(scipen = 999)"
   ]
  },
  {
   "cell_type": "markdown",
   "metadata": {},
   "source": [
    "<h3> 2.1 CompanyID </h3>"
   ]
  },
  {
   "cell_type": "markdown",
   "metadata": {},
   "source": [
    "Firstly I created the CompanyID variable and I used the common format which indicates the unique number of ID (from 10001 to 10100). "
   ]
  },
  {
   "cell_type": "code",
   "execution_count": 2,
   "metadata": {},
   "outputs": [],
   "source": [
    "a <- seq(from = 10001, to = 10100, by = 1)  # Unique Company ID\n",
    "b <- NULL\n",
    "for (i in 1:100){\n",
    "  b <- c(b, rep(a[i], 12))\n",
    "}\n",
    "CompanyID <- sort(b) # CopanyID Vector"
   ]
  },
  {
   "cell_type": "code",
   "execution_count": 35,
   "metadata": {},
   "outputs": [
    {
     "data": {
      "text/html": [
       "100"
      ],
      "text/latex": [
       "100"
      ],
      "text/markdown": [
       "100"
      ],
      "text/plain": [
       "[1] 100"
      ]
     },
     "metadata": {},
     "output_type": "display_data"
    }
   ],
   "source": [
    "#Inspecting the results\n",
    "length(unique(CompanyID))"
   ]
  },
  {
   "cell_type": "markdown",
   "metadata": {},
   "source": [
    "<h3> 2.2 Date and ArtificialDataset Template </h3>"
   ]
  },
  {
   "cell_type": "code",
   "execution_count": 4,
   "metadata": {},
   "outputs": [],
   "source": [
    "Date <- NA"
   ]
  },
  {
   "cell_type": "code",
   "execution_count": 5,
   "metadata": {},
   "outputs": [],
   "source": [
    "ArtificialDataset <- data.frame(Date, CompanyID)\n",
    "ArtificialDataset$CompanyID <- as.factor(ArtificialDataset$CompanyID)"
   ]
  },
  {
   "cell_type": "code",
   "execution_count": 6,
   "metadata": {},
   "outputs": [],
   "source": [
    "ArtificialDataset$Date <- seq(as.Date('2016/01/01'), as.Date('2016/12/01'), by = \"month\")"
   ]
  },
  {
   "cell_type": "code",
   "execution_count": 7,
   "metadata": {},
   "outputs": [
    {
     "data": {
      "text/html": [
       "<table>\n",
       "<thead><tr><th scope=col>Date</th><th scope=col>CompanyID</th></tr></thead>\n",
       "<tbody>\n",
       "\t<tr><td>2016-01-01</td><td>10001     </td></tr>\n",
       "\t<tr><td>2016-02-01</td><td>10001     </td></tr>\n",
       "\t<tr><td>2016-03-01</td><td>10001     </td></tr>\n",
       "\t<tr><td>2016-04-01</td><td>10001     </td></tr>\n",
       "\t<tr><td>2016-05-01</td><td>10001     </td></tr>\n",
       "\t<tr><td>2016-06-01</td><td>10001     </td></tr>\n",
       "</tbody>\n",
       "</table>\n"
      ],
      "text/latex": [
       "\\begin{tabular}{r|ll}\n",
       " Date & CompanyID\\\\\n",
       "\\hline\n",
       "\t 2016-01-01 & 10001     \\\\\n",
       "\t 2016-02-01 & 10001     \\\\\n",
       "\t 2016-03-01 & 10001     \\\\\n",
       "\t 2016-04-01 & 10001     \\\\\n",
       "\t 2016-05-01 & 10001     \\\\\n",
       "\t 2016-06-01 & 10001     \\\\\n",
       "\\end{tabular}\n"
      ],
      "text/markdown": [
       "\n",
       "| Date | CompanyID |\n",
       "|---|---|\n",
       "| 2016-01-01 | 10001      |\n",
       "| 2016-02-01 | 10001      |\n",
       "| 2016-03-01 | 10001      |\n",
       "| 2016-04-01 | 10001      |\n",
       "| 2016-05-01 | 10001      |\n",
       "| 2016-06-01 | 10001      |\n",
       "\n"
      ],
      "text/plain": [
       "  Date       CompanyID\n",
       "1 2016-01-01 10001    \n",
       "2 2016-02-01 10001    \n",
       "3 2016-03-01 10001    \n",
       "4 2016-04-01 10001    \n",
       "5 2016-05-01 10001    \n",
       "6 2016-06-01 10001    "
      ]
     },
     "metadata": {},
     "output_type": "display_data"
    },
    {
     "data": {
      "text/html": [
       "<table>\n",
       "<thead><tr><th></th><th scope=col>Date</th><th scope=col>CompanyID</th></tr></thead>\n",
       "<tbody>\n",
       "\t<tr><th scope=row>1195</th><td>2016-07-01</td><td>10100     </td></tr>\n",
       "\t<tr><th scope=row>1196</th><td>2016-08-01</td><td>10100     </td></tr>\n",
       "\t<tr><th scope=row>1197</th><td>2016-09-01</td><td>10100     </td></tr>\n",
       "\t<tr><th scope=row>1198</th><td>2016-10-01</td><td>10100     </td></tr>\n",
       "\t<tr><th scope=row>1199</th><td>2016-11-01</td><td>10100     </td></tr>\n",
       "\t<tr><th scope=row>1200</th><td>2016-12-01</td><td>10100     </td></tr>\n",
       "</tbody>\n",
       "</table>\n"
      ],
      "text/latex": [
       "\\begin{tabular}{r|ll}\n",
       "  & Date & CompanyID\\\\\n",
       "\\hline\n",
       "\t1195 & 2016-07-01 & 10100     \\\\\n",
       "\t1196 & 2016-08-01 & 10100     \\\\\n",
       "\t1197 & 2016-09-01 & 10100     \\\\\n",
       "\t1198 & 2016-10-01 & 10100     \\\\\n",
       "\t1199 & 2016-11-01 & 10100     \\\\\n",
       "\t1200 & 2016-12-01 & 10100     \\\\\n",
       "\\end{tabular}\n"
      ],
      "text/markdown": [
       "\n",
       "| <!--/--> | Date | CompanyID |\n",
       "|---|---|---|\n",
       "| 1195 | 2016-07-01 | 10100      |\n",
       "| 1196 | 2016-08-01 | 10100      |\n",
       "| 1197 | 2016-09-01 | 10100      |\n",
       "| 1198 | 2016-10-01 | 10100      |\n",
       "| 1199 | 2016-11-01 | 10100      |\n",
       "| 1200 | 2016-12-01 | 10100      |\n",
       "\n"
      ],
      "text/plain": [
       "     Date       CompanyID\n",
       "1195 2016-07-01 10100    \n",
       "1196 2016-08-01 10100    \n",
       "1197 2016-09-01 10100    \n",
       "1198 2016-10-01 10100    \n",
       "1199 2016-11-01 10100    \n",
       "1200 2016-12-01 10100    "
      ]
     },
     "metadata": {},
     "output_type": "display_data"
    },
    {
     "name": "stdout",
     "output_type": "stream",
     "text": [
      "'data.frame':\t1200 obs. of  2 variables:\n",
      " $ Date     : Date, format: \"2016-01-01\" \"2016-02-01\" ...\n",
      " $ CompanyID: Factor w/ 100 levels \"10001\",\"10002\",..: 1 1 1 1 1 1 1 1 1 1 ...\n"
     ]
    }
   ],
   "source": [
    "#Inspecting the ArtificialDataset\n",
    "head(ArtificialDataset)\n",
    "tail(ArtificialDataset)\n",
    "str(ArtificialDataset)"
   ]
  },
  {
   "cell_type": "markdown",
   "metadata": {},
   "source": [
    "<h3> 2.3 Revenue </h3>"
   ]
  },
  {
   "cell_type": "code",
   "execution_count": 8,
   "metadata": {},
   "outputs": [],
   "source": [
    "ArtificialDataset$Revenue <- sample(round(runif(1200*10, min = 0, max = 1)*10^6, digits = 2), 1200, replace = TRUE)"
   ]
  },
  {
   "cell_type": "code",
   "execution_count": 9,
   "metadata": {},
   "outputs": [
    {
     "data": {
      "text/html": [
       "<table>\n",
       "<thead><tr><th scope=col>Date</th><th scope=col>CompanyID</th><th scope=col>Revenue</th></tr></thead>\n",
       "<tbody>\n",
       "\t<tr><td>2016-01-01</td><td>10001     </td><td>690710.54 </td></tr>\n",
       "\t<tr><td>2016-02-01</td><td>10001     </td><td>218199.33 </td></tr>\n",
       "\t<tr><td>2016-03-01</td><td>10001     </td><td>887134.93 </td></tr>\n",
       "\t<tr><td>2016-04-01</td><td>10001     </td><td>505122.23 </td></tr>\n",
       "\t<tr><td>2016-05-01</td><td>10001     </td><td>312168.56 </td></tr>\n",
       "\t<tr><td>2016-06-01</td><td>10001     </td><td> 43971.11 </td></tr>\n",
       "</tbody>\n",
       "</table>\n"
      ],
      "text/latex": [
       "\\begin{tabular}{r|lll}\n",
       " Date & CompanyID & Revenue\\\\\n",
       "\\hline\n",
       "\t 2016-01-01 & 10001      & 690710.54 \\\\\n",
       "\t 2016-02-01 & 10001      & 218199.33 \\\\\n",
       "\t 2016-03-01 & 10001      & 887134.93 \\\\\n",
       "\t 2016-04-01 & 10001      & 505122.23 \\\\\n",
       "\t 2016-05-01 & 10001      & 312168.56 \\\\\n",
       "\t 2016-06-01 & 10001      &  43971.11 \\\\\n",
       "\\end{tabular}\n"
      ],
      "text/markdown": [
       "\n",
       "| Date | CompanyID | Revenue |\n",
       "|---|---|---|\n",
       "| 2016-01-01 | 10001      | 690710.54  |\n",
       "| 2016-02-01 | 10001      | 218199.33  |\n",
       "| 2016-03-01 | 10001      | 887134.93  |\n",
       "| 2016-04-01 | 10001      | 505122.23  |\n",
       "| 2016-05-01 | 10001      | 312168.56  |\n",
       "| 2016-06-01 | 10001      |  43971.11  |\n",
       "\n"
      ],
      "text/plain": [
       "  Date       CompanyID Revenue  \n",
       "1 2016-01-01 10001     690710.54\n",
       "2 2016-02-01 10001     218199.33\n",
       "3 2016-03-01 10001     887134.93\n",
       "4 2016-04-01 10001     505122.23\n",
       "5 2016-05-01 10001     312168.56\n",
       "6 2016-06-01 10001      43971.11"
      ]
     },
     "metadata": {},
     "output_type": "display_data"
    }
   ],
   "source": [
    "#Inspecting the ArtificialDataset\n",
    "head(ArtificialDataset)"
   ]
  },
  {
   "cell_type": "markdown",
   "metadata": {},
   "source": [
    "<h3> 2.4 Expenses </h3>"
   ]
  },
  {
   "cell_type": "code",
   "execution_count": 10,
   "metadata": {},
   "outputs": [],
   "source": [
    "ArtificialDataset$Expenses <- sample(round(runif(1200*10, min = 0, max = 0.5)*10^6, digits = 2), 1200, replace = TRUE)"
   ]
  },
  {
   "cell_type": "code",
   "execution_count": 11,
   "metadata": {},
   "outputs": [
    {
     "data": {
      "text/html": [
       "<table>\n",
       "<thead><tr><th scope=col>Date</th><th scope=col>CompanyID</th><th scope=col>Revenue</th><th scope=col>Expenses</th></tr></thead>\n",
       "<tbody>\n",
       "\t<tr><td>2016-01-01</td><td>10001     </td><td>690710.54 </td><td>399434.3  </td></tr>\n",
       "\t<tr><td>2016-02-01</td><td>10001     </td><td>218199.33 </td><td>357003.3  </td></tr>\n",
       "\t<tr><td>2016-03-01</td><td>10001     </td><td>887134.93 </td><td>163712.5  </td></tr>\n",
       "\t<tr><td>2016-04-01</td><td>10001     </td><td>505122.23 </td><td>168801.5  </td></tr>\n",
       "\t<tr><td>2016-05-01</td><td>10001     </td><td>312168.56 </td><td>417686.1  </td></tr>\n",
       "\t<tr><td>2016-06-01</td><td>10001     </td><td> 43971.11 </td><td>160718.6  </td></tr>\n",
       "</tbody>\n",
       "</table>\n"
      ],
      "text/latex": [
       "\\begin{tabular}{r|llll}\n",
       " Date & CompanyID & Revenue & Expenses\\\\\n",
       "\\hline\n",
       "\t 2016-01-01 & 10001      & 690710.54  & 399434.3  \\\\\n",
       "\t 2016-02-01 & 10001      & 218199.33  & 357003.3  \\\\\n",
       "\t 2016-03-01 & 10001      & 887134.93  & 163712.5  \\\\\n",
       "\t 2016-04-01 & 10001      & 505122.23  & 168801.5  \\\\\n",
       "\t 2016-05-01 & 10001      & 312168.56  & 417686.1  \\\\\n",
       "\t 2016-06-01 & 10001      &  43971.11  & 160718.6  \\\\\n",
       "\\end{tabular}\n"
      ],
      "text/markdown": [
       "\n",
       "| Date | CompanyID | Revenue | Expenses |\n",
       "|---|---|---|---|\n",
       "| 2016-01-01 | 10001      | 690710.54  | 399434.3   |\n",
       "| 2016-02-01 | 10001      | 218199.33  | 357003.3   |\n",
       "| 2016-03-01 | 10001      | 887134.93  | 163712.5   |\n",
       "| 2016-04-01 | 10001      | 505122.23  | 168801.5   |\n",
       "| 2016-05-01 | 10001      | 312168.56  | 417686.1   |\n",
       "| 2016-06-01 | 10001      |  43971.11  | 160718.6   |\n",
       "\n"
      ],
      "text/plain": [
       "  Date       CompanyID Revenue   Expenses\n",
       "1 2016-01-01 10001     690710.54 399434.3\n",
       "2 2016-02-01 10001     218199.33 357003.3\n",
       "3 2016-03-01 10001     887134.93 163712.5\n",
       "4 2016-04-01 10001     505122.23 168801.5\n",
       "5 2016-05-01 10001     312168.56 417686.1\n",
       "6 2016-06-01 10001      43971.11 160718.6"
      ]
     },
     "metadata": {},
     "output_type": "display_data"
    }
   ],
   "source": [
    "#Inspecting the ArtificialDataset\n",
    "head(ArtificialDataset)"
   ]
  },
  {
   "cell_type": "markdown",
   "metadata": {},
   "source": [
    "<h3> 2.5 Profit </h3>"
   ]
  },
  {
   "cell_type": "code",
   "execution_count": 12,
   "metadata": {},
   "outputs": [],
   "source": [
    "ArtificialDataset$Profit <- ArtificialDataset$Revenue - ArtificialDataset$Expenses"
   ]
  },
  {
   "cell_type": "code",
   "execution_count": 13,
   "metadata": {},
   "outputs": [
    {
     "data": {
      "text/html": [
       "<table>\n",
       "<thead><tr><th scope=col>Date</th><th scope=col>CompanyID</th><th scope=col>Revenue</th><th scope=col>Expenses</th><th scope=col>Profit</th></tr></thead>\n",
       "<tbody>\n",
       "\t<tr><td>2016-01-01</td><td>10001     </td><td>690710.54 </td><td>399434.3  </td><td> 291276.2 </td></tr>\n",
       "\t<tr><td>2016-02-01</td><td>10001     </td><td>218199.33 </td><td>357003.3  </td><td>-138804.0 </td></tr>\n",
       "\t<tr><td>2016-03-01</td><td>10001     </td><td>887134.93 </td><td>163712.5  </td><td> 723422.5 </td></tr>\n",
       "\t<tr><td>2016-04-01</td><td>10001     </td><td>505122.23 </td><td>168801.5  </td><td> 336320.7 </td></tr>\n",
       "\t<tr><td>2016-05-01</td><td>10001     </td><td>312168.56 </td><td>417686.1  </td><td>-105517.6 </td></tr>\n",
       "\t<tr><td>2016-06-01</td><td>10001     </td><td> 43971.11 </td><td>160718.6  </td><td>-116747.5 </td></tr>\n",
       "</tbody>\n",
       "</table>\n"
      ],
      "text/latex": [
       "\\begin{tabular}{r|lllll}\n",
       " Date & CompanyID & Revenue & Expenses & Profit\\\\\n",
       "\\hline\n",
       "\t 2016-01-01 & 10001      & 690710.54  & 399434.3   &  291276.2 \\\\\n",
       "\t 2016-02-01 & 10001      & 218199.33  & 357003.3   & -138804.0 \\\\\n",
       "\t 2016-03-01 & 10001      & 887134.93  & 163712.5   &  723422.5 \\\\\n",
       "\t 2016-04-01 & 10001      & 505122.23  & 168801.5   &  336320.7 \\\\\n",
       "\t 2016-05-01 & 10001      & 312168.56  & 417686.1   & -105517.6 \\\\\n",
       "\t 2016-06-01 & 10001      &  43971.11  & 160718.6   & -116747.5 \\\\\n",
       "\\end{tabular}\n"
      ],
      "text/markdown": [
       "\n",
       "| Date | CompanyID | Revenue | Expenses | Profit |\n",
       "|---|---|---|---|---|\n",
       "| 2016-01-01 | 10001      | 690710.54  | 399434.3   |  291276.2  |\n",
       "| 2016-02-01 | 10001      | 218199.33  | 357003.3   | -138804.0  |\n",
       "| 2016-03-01 | 10001      | 887134.93  | 163712.5   |  723422.5  |\n",
       "| 2016-04-01 | 10001      | 505122.23  | 168801.5   |  336320.7  |\n",
       "| 2016-05-01 | 10001      | 312168.56  | 417686.1   | -105517.6  |\n",
       "| 2016-06-01 | 10001      |  43971.11  | 160718.6   | -116747.5  |\n",
       "\n"
      ],
      "text/plain": [
       "  Date       CompanyID Revenue   Expenses Profit   \n",
       "1 2016-01-01 10001     690710.54 399434.3  291276.2\n",
       "2 2016-02-01 10001     218199.33 357003.3 -138804.0\n",
       "3 2016-03-01 10001     887134.93 163712.5  723422.5\n",
       "4 2016-04-01 10001     505122.23 168801.5  336320.7\n",
       "5 2016-05-01 10001     312168.56 417686.1 -105517.6\n",
       "6 2016-06-01 10001      43971.11 160718.6 -116747.5"
      ]
     },
     "metadata": {},
     "output_type": "display_data"
    }
   ],
   "source": [
    "#Inspecting the ArtificialDataset\n",
    "head(ArtificialDataset)"
   ]
  },
  {
   "cell_type": "markdown",
   "metadata": {},
   "source": [
    "<h3> 2.6 LossFlag </h3>"
   ]
  },
  {
   "cell_type": "code",
   "execution_count": 14,
   "metadata": {},
   "outputs": [],
   "source": [
    "ArtificialDataset$LossFlag <- ifelse(ArtificialDataset$Profit < 0, 1, 0)"
   ]
  },
  {
   "cell_type": "code",
   "execution_count": 15,
   "metadata": {},
   "outputs": [
    {
     "data": {
      "text/html": [
       "<table>\n",
       "<thead><tr><th scope=col>Date</th><th scope=col>CompanyID</th><th scope=col>Revenue</th><th scope=col>Expenses</th><th scope=col>Profit</th><th scope=col>LossFlag</th></tr></thead>\n",
       "<tbody>\n",
       "\t<tr><td>2016-01-01</td><td>10001     </td><td>690710.54 </td><td>399434.3  </td><td> 291276.2 </td><td>0         </td></tr>\n",
       "\t<tr><td>2016-02-01</td><td>10001     </td><td>218199.33 </td><td>357003.3  </td><td>-138804.0 </td><td>1         </td></tr>\n",
       "\t<tr><td>2016-03-01</td><td>10001     </td><td>887134.93 </td><td>163712.5  </td><td> 723422.5 </td><td>0         </td></tr>\n",
       "\t<tr><td>2016-04-01</td><td>10001     </td><td>505122.23 </td><td>168801.5  </td><td> 336320.7 </td><td>0         </td></tr>\n",
       "\t<tr><td>2016-05-01</td><td>10001     </td><td>312168.56 </td><td>417686.1  </td><td>-105517.6 </td><td>1         </td></tr>\n",
       "\t<tr><td>2016-06-01</td><td>10001     </td><td> 43971.11 </td><td>160718.6  </td><td>-116747.5 </td><td>1         </td></tr>\n",
       "</tbody>\n",
       "</table>\n"
      ],
      "text/latex": [
       "\\begin{tabular}{r|llllll}\n",
       " Date & CompanyID & Revenue & Expenses & Profit & LossFlag\\\\\n",
       "\\hline\n",
       "\t 2016-01-01 & 10001      & 690710.54  & 399434.3   &  291276.2  & 0         \\\\\n",
       "\t 2016-02-01 & 10001      & 218199.33  & 357003.3   & -138804.0  & 1         \\\\\n",
       "\t 2016-03-01 & 10001      & 887134.93  & 163712.5   &  723422.5  & 0         \\\\\n",
       "\t 2016-04-01 & 10001      & 505122.23  & 168801.5   &  336320.7  & 0         \\\\\n",
       "\t 2016-05-01 & 10001      & 312168.56  & 417686.1   & -105517.6  & 1         \\\\\n",
       "\t 2016-06-01 & 10001      &  43971.11  & 160718.6   & -116747.5  & 1         \\\\\n",
       "\\end{tabular}\n"
      ],
      "text/markdown": [
       "\n",
       "| Date | CompanyID | Revenue | Expenses | Profit | LossFlag |\n",
       "|---|---|---|---|---|---|\n",
       "| 2016-01-01 | 10001      | 690710.54  | 399434.3   |  291276.2  | 0          |\n",
       "| 2016-02-01 | 10001      | 218199.33  | 357003.3   | -138804.0  | 1          |\n",
       "| 2016-03-01 | 10001      | 887134.93  | 163712.5   |  723422.5  | 0          |\n",
       "| 2016-04-01 | 10001      | 505122.23  | 168801.5   |  336320.7  | 0          |\n",
       "| 2016-05-01 | 10001      | 312168.56  | 417686.1   | -105517.6  | 1          |\n",
       "| 2016-06-01 | 10001      |  43971.11  | 160718.6   | -116747.5  | 1          |\n",
       "\n"
      ],
      "text/plain": [
       "  Date       CompanyID Revenue   Expenses Profit    LossFlag\n",
       "1 2016-01-01 10001     690710.54 399434.3  291276.2 0       \n",
       "2 2016-02-01 10001     218199.33 357003.3 -138804.0 1       \n",
       "3 2016-03-01 10001     887134.93 163712.5  723422.5 0       \n",
       "4 2016-04-01 10001     505122.23 168801.5  336320.7 0       \n",
       "5 2016-05-01 10001     312168.56 417686.1 -105517.6 1       \n",
       "6 2016-06-01 10001      43971.11 160718.6 -116747.5 1       "
      ]
     },
     "metadata": {},
     "output_type": "display_data"
    }
   ],
   "source": [
    "#Inspecting the ArtificialDataset\n",
    "head(ArtificialDataset)"
   ]
  },
  {
   "cell_type": "markdown",
   "metadata": {},
   "source": [
    "<h3> 2.7 Employees </h3>"
   ]
  },
  {
   "cell_type": "code",
   "execution_count": 16,
   "metadata": {},
   "outputs": [],
   "source": [
    "ArtificialDataset$Employees <- NA\n",
    "\n",
    "for(i in 1:100){\n",
    "  a <- ArtificialDataset[which(ArtificialDataset$CompanyID == \n",
    "                                 levels(ArtificialDataset$CompanyID)[i]),]\n",
    "  \n",
    "  a$Employees <- rep(sample(seq(from = 10, to = 100, by = 1), 1, replace = TRUE))\n",
    "  \n",
    "  ArtificialDataset[which(ArtificialDataset$CompanyID == \n",
    "                            levels(ArtificialDataset$CompanyID)[i]),]$Employees <-\n",
    "    a$Employees\n",
    "}"
   ]
  },
  {
   "cell_type": "code",
   "execution_count": 17,
   "metadata": {},
   "outputs": [
    {
     "data": {
      "text/html": [
       "<table>\n",
       "<thead><tr><th scope=col>Date</th><th scope=col>CompanyID</th><th scope=col>Revenue</th><th scope=col>Expenses</th><th scope=col>Profit</th><th scope=col>LossFlag</th><th scope=col>Employees</th></tr></thead>\n",
       "<tbody>\n",
       "\t<tr><td>2016-01-01</td><td>10001     </td><td>690710.54 </td><td>399434.3  </td><td> 291276.2 </td><td>0         </td><td>34        </td></tr>\n",
       "\t<tr><td>2016-02-01</td><td>10001     </td><td>218199.33 </td><td>357003.3  </td><td>-138804.0 </td><td>1         </td><td>34        </td></tr>\n",
       "\t<tr><td>2016-03-01</td><td>10001     </td><td>887134.93 </td><td>163712.5  </td><td> 723422.5 </td><td>0         </td><td>34        </td></tr>\n",
       "\t<tr><td>2016-04-01</td><td>10001     </td><td>505122.23 </td><td>168801.5  </td><td> 336320.7 </td><td>0         </td><td>34        </td></tr>\n",
       "\t<tr><td>2016-05-01</td><td>10001     </td><td>312168.56 </td><td>417686.1  </td><td>-105517.6 </td><td>1         </td><td>34        </td></tr>\n",
       "\t<tr><td>2016-06-01</td><td>10001     </td><td> 43971.11 </td><td>160718.6  </td><td>-116747.5 </td><td>1         </td><td>34        </td></tr>\n",
       "</tbody>\n",
       "</table>\n"
      ],
      "text/latex": [
       "\\begin{tabular}{r|lllllll}\n",
       " Date & CompanyID & Revenue & Expenses & Profit & LossFlag & Employees\\\\\n",
       "\\hline\n",
       "\t 2016-01-01 & 10001      & 690710.54  & 399434.3   &  291276.2  & 0          & 34        \\\\\n",
       "\t 2016-02-01 & 10001      & 218199.33  & 357003.3   & -138804.0  & 1          & 34        \\\\\n",
       "\t 2016-03-01 & 10001      & 887134.93  & 163712.5   &  723422.5  & 0          & 34        \\\\\n",
       "\t 2016-04-01 & 10001      & 505122.23  & 168801.5   &  336320.7  & 0          & 34        \\\\\n",
       "\t 2016-05-01 & 10001      & 312168.56  & 417686.1   & -105517.6  & 1          & 34        \\\\\n",
       "\t 2016-06-01 & 10001      &  43971.11  & 160718.6   & -116747.5  & 1          & 34        \\\\\n",
       "\\end{tabular}\n"
      ],
      "text/markdown": [
       "\n",
       "| Date | CompanyID | Revenue | Expenses | Profit | LossFlag | Employees |\n",
       "|---|---|---|---|---|---|---|\n",
       "| 2016-01-01 | 10001      | 690710.54  | 399434.3   |  291276.2  | 0          | 34         |\n",
       "| 2016-02-01 | 10001      | 218199.33  | 357003.3   | -138804.0  | 1          | 34         |\n",
       "| 2016-03-01 | 10001      | 887134.93  | 163712.5   |  723422.5  | 0          | 34         |\n",
       "| 2016-04-01 | 10001      | 505122.23  | 168801.5   |  336320.7  | 0          | 34         |\n",
       "| 2016-05-01 | 10001      | 312168.56  | 417686.1   | -105517.6  | 1          | 34         |\n",
       "| 2016-06-01 | 10001      |  43971.11  | 160718.6   | -116747.5  | 1          | 34         |\n",
       "\n"
      ],
      "text/plain": [
       "  Date       CompanyID Revenue   Expenses Profit    LossFlag Employees\n",
       "1 2016-01-01 10001     690710.54 399434.3  291276.2 0        34       \n",
       "2 2016-02-01 10001     218199.33 357003.3 -138804.0 1        34       \n",
       "3 2016-03-01 10001     887134.93 163712.5  723422.5 0        34       \n",
       "4 2016-04-01 10001     505122.23 168801.5  336320.7 0        34       \n",
       "5 2016-05-01 10001     312168.56 417686.1 -105517.6 1        34       \n",
       "6 2016-06-01 10001      43971.11 160718.6 -116747.5 1        34       "
      ]
     },
     "metadata": {},
     "output_type": "display_data"
    }
   ],
   "source": [
    "#Inspecting the ArtificialDataset\n",
    "head(ArtificialDataset)"
   ]
  },
  {
   "cell_type": "markdown",
   "metadata": {},
   "source": [
    "<h3> 2.8 Region </h3>"
   ]
  },
  {
   "cell_type": "code",
   "execution_count": 18,
   "metadata": {},
   "outputs": [],
   "source": [
    "ArtificialDataset$Region <- NA    \n",
    "\n",
    "for(i in 1:100){    \n",
    "  a <- ArtificialDataset[which(ArtificialDataset$CompanyID == \n",
    "                                 levels(ArtificialDataset$CompanyID)[i]),]\n",
    "  \n",
    "  a$Region <- sample(c(\"A\", \"B\", \"C\", \"D\", \"E\"),\n",
    "                     1,\n",
    "                     replace = TRUE,\n",
    "                     prob = c(0.25, 0.20, 0.10, 0.05, 0.40))\n",
    "  \n",
    "  ArtificialDataset[which(ArtificialDataset$CompanyID == \n",
    "                            levels(ArtificialDataset$CompanyID)[i]),]$Region <-\n",
    "    a$Region\n",
    "}"
   ]
  },
  {
   "cell_type": "code",
   "execution_count": 19,
   "metadata": {},
   "outputs": [
    {
     "data": {
      "text/html": [
       "<table>\n",
       "<thead><tr><th scope=col>Date</th><th scope=col>CompanyID</th><th scope=col>Revenue</th><th scope=col>Expenses</th><th scope=col>Profit</th><th scope=col>LossFlag</th><th scope=col>Employees</th><th scope=col>Region</th></tr></thead>\n",
       "<tbody>\n",
       "\t<tr><td>2016-01-01</td><td>10001     </td><td>690710.54 </td><td>399434.3  </td><td> 291276.2 </td><td>0         </td><td>34        </td><td>B         </td></tr>\n",
       "\t<tr><td>2016-02-01</td><td>10001     </td><td>218199.33 </td><td>357003.3  </td><td>-138804.0 </td><td>1         </td><td>34        </td><td>B         </td></tr>\n",
       "\t<tr><td>2016-03-01</td><td>10001     </td><td>887134.93 </td><td>163712.5  </td><td> 723422.5 </td><td>0         </td><td>34        </td><td>B         </td></tr>\n",
       "\t<tr><td>2016-04-01</td><td>10001     </td><td>505122.23 </td><td>168801.5  </td><td> 336320.7 </td><td>0         </td><td>34        </td><td>B         </td></tr>\n",
       "\t<tr><td>2016-05-01</td><td>10001     </td><td>312168.56 </td><td>417686.1  </td><td>-105517.6 </td><td>1         </td><td>34        </td><td>B         </td></tr>\n",
       "\t<tr><td>2016-06-01</td><td>10001     </td><td> 43971.11 </td><td>160718.6  </td><td>-116747.5 </td><td>1         </td><td>34        </td><td>B         </td></tr>\n",
       "</tbody>\n",
       "</table>\n"
      ],
      "text/latex": [
       "\\begin{tabular}{r|llllllll}\n",
       " Date & CompanyID & Revenue & Expenses & Profit & LossFlag & Employees & Region\\\\\n",
       "\\hline\n",
       "\t 2016-01-01 & 10001      & 690710.54  & 399434.3   &  291276.2  & 0          & 34         & B         \\\\\n",
       "\t 2016-02-01 & 10001      & 218199.33  & 357003.3   & -138804.0  & 1          & 34         & B         \\\\\n",
       "\t 2016-03-01 & 10001      & 887134.93  & 163712.5   &  723422.5  & 0          & 34         & B         \\\\\n",
       "\t 2016-04-01 & 10001      & 505122.23  & 168801.5   &  336320.7  & 0          & 34         & B         \\\\\n",
       "\t 2016-05-01 & 10001      & 312168.56  & 417686.1   & -105517.6  & 1          & 34         & B         \\\\\n",
       "\t 2016-06-01 & 10001      &  43971.11  & 160718.6   & -116747.5  & 1          & 34         & B         \\\\\n",
       "\\end{tabular}\n"
      ],
      "text/markdown": [
       "\n",
       "| Date | CompanyID | Revenue | Expenses | Profit | LossFlag | Employees | Region |\n",
       "|---|---|---|---|---|---|---|---|\n",
       "| 2016-01-01 | 10001      | 690710.54  | 399434.3   |  291276.2  | 0          | 34         | B          |\n",
       "| 2016-02-01 | 10001      | 218199.33  | 357003.3   | -138804.0  | 1          | 34         | B          |\n",
       "| 2016-03-01 | 10001      | 887134.93  | 163712.5   |  723422.5  | 0          | 34         | B          |\n",
       "| 2016-04-01 | 10001      | 505122.23  | 168801.5   |  336320.7  | 0          | 34         | B          |\n",
       "| 2016-05-01 | 10001      | 312168.56  | 417686.1   | -105517.6  | 1          | 34         | B          |\n",
       "| 2016-06-01 | 10001      |  43971.11  | 160718.6   | -116747.5  | 1          | 34         | B          |\n",
       "\n"
      ],
      "text/plain": [
       "  Date       CompanyID Revenue   Expenses Profit    LossFlag Employees Region\n",
       "1 2016-01-01 10001     690710.54 399434.3  291276.2 0        34        B     \n",
       "2 2016-02-01 10001     218199.33 357003.3 -138804.0 1        34        B     \n",
       "3 2016-03-01 10001     887134.93 163712.5  723422.5 0        34        B     \n",
       "4 2016-04-01 10001     505122.23 168801.5  336320.7 0        34        B     \n",
       "5 2016-05-01 10001     312168.56 417686.1 -105517.6 1        34        B     \n",
       "6 2016-06-01 10001      43971.11 160718.6 -116747.5 1        34        B     "
      ]
     },
     "metadata": {},
     "output_type": "display_data"
    }
   ],
   "source": [
    "#Inspecting the ArtificialDataset\n",
    "head(ArtificialDataset)"
   ]
  },
  {
   "cell_type": "markdown",
   "metadata": {},
   "source": [
    "<h3> 2.9 BusinessValuation </h3>"
   ]
  },
  {
   "cell_type": "code",
   "execution_count": 20,
   "metadata": {},
   "outputs": [],
   "source": [
    "ArtificialDataset$BusinessValuation <- NA\n",
    "\n",
    "for(i in 1:100){    \n",
    "  a <- ArtificialDataset[which(ArtificialDataset$CompanyID == \n",
    "                                 levels(ArtificialDataset$CompanyID)[i]),]\n",
    "  \n",
    "  for(j in 1:12){      \n",
    "    a$BusinessValuation[j] <- round(sample(seq(from = 0.03*a$Profit[j], to = 0.10*a$Profit[j]), 1, replace = TRUE),\n",
    "                                    digits = 2)\n",
    "  }\n",
    " \n",
    "  ArtificialDataset[which(ArtificialDataset$CompanyID == \n",
    "                            levels(ArtificialDataset$CompanyID)[i]),]$BusinessValuation <-\n",
    "    a$BusinessValuation\n",
    "}"
   ]
  },
  {
   "cell_type": "code",
   "execution_count": 21,
   "metadata": {},
   "outputs": [
    {
     "data": {
      "text/html": [
       "<table>\n",
       "<thead><tr><th scope=col>Date</th><th scope=col>CompanyID</th><th scope=col>Revenue</th><th scope=col>Expenses</th><th scope=col>Profit</th><th scope=col>LossFlag</th><th scope=col>Employees</th><th scope=col>Region</th><th scope=col>BusinessValuation</th></tr></thead>\n",
       "<tbody>\n",
       "\t<tr><td>2016-01-01</td><td>10001     </td><td>690710.54 </td><td>399434.3  </td><td> 291276.2 </td><td>0         </td><td>34        </td><td>B         </td><td>29038.29  </td></tr>\n",
       "\t<tr><td>2016-02-01</td><td>10001     </td><td>218199.33 </td><td>357003.3  </td><td>-138804.0 </td><td>1         </td><td>34        </td><td>B         </td><td>-5387.12  </td></tr>\n",
       "\t<tr><td>2016-03-01</td><td>10001     </td><td>887134.93 </td><td>163712.5  </td><td> 723422.5 </td><td>0         </td><td>34        </td><td>B         </td><td>44855.67  </td></tr>\n",
       "\t<tr><td>2016-04-01</td><td>10001     </td><td>505122.23 </td><td>168801.5  </td><td> 336320.7 </td><td>0         </td><td>34        </td><td>B         </td><td>28444.62  </td></tr>\n",
       "\t<tr><td>2016-05-01</td><td>10001     </td><td>312168.56 </td><td>417686.1  </td><td>-105517.6 </td><td>1         </td><td>34        </td><td>B         </td><td>-7074.53  </td></tr>\n",
       "\t<tr><td>2016-06-01</td><td>10001     </td><td> 43971.11 </td><td>160718.6  </td><td>-116747.5 </td><td>1         </td><td>34        </td><td>B         </td><td>-8930.43  </td></tr>\n",
       "</tbody>\n",
       "</table>\n"
      ],
      "text/latex": [
       "\\begin{tabular}{r|lllllllll}\n",
       " Date & CompanyID & Revenue & Expenses & Profit & LossFlag & Employees & Region & BusinessValuation\\\\\n",
       "\\hline\n",
       "\t 2016-01-01 & 10001      & 690710.54  & 399434.3   &  291276.2  & 0          & 34         & B          & 29038.29  \\\\\n",
       "\t 2016-02-01 & 10001      & 218199.33  & 357003.3   & -138804.0  & 1          & 34         & B          & -5387.12  \\\\\n",
       "\t 2016-03-01 & 10001      & 887134.93  & 163712.5   &  723422.5  & 0          & 34         & B          & 44855.67  \\\\\n",
       "\t 2016-04-01 & 10001      & 505122.23  & 168801.5   &  336320.7  & 0          & 34         & B          & 28444.62  \\\\\n",
       "\t 2016-05-01 & 10001      & 312168.56  & 417686.1   & -105517.6  & 1          & 34         & B          & -7074.53  \\\\\n",
       "\t 2016-06-01 & 10001      &  43971.11  & 160718.6   & -116747.5  & 1          & 34         & B          & -8930.43  \\\\\n",
       "\\end{tabular}\n"
      ],
      "text/markdown": [
       "\n",
       "| Date | CompanyID | Revenue | Expenses | Profit | LossFlag | Employees | Region | BusinessValuation |\n",
       "|---|---|---|---|---|---|---|---|---|\n",
       "| 2016-01-01 | 10001      | 690710.54  | 399434.3   |  291276.2  | 0          | 34         | B          | 29038.29   |\n",
       "| 2016-02-01 | 10001      | 218199.33  | 357003.3   | -138804.0  | 1          | 34         | B          | -5387.12   |\n",
       "| 2016-03-01 | 10001      | 887134.93  | 163712.5   |  723422.5  | 0          | 34         | B          | 44855.67   |\n",
       "| 2016-04-01 | 10001      | 505122.23  | 168801.5   |  336320.7  | 0          | 34         | B          | 28444.62   |\n",
       "| 2016-05-01 | 10001      | 312168.56  | 417686.1   | -105517.6  | 1          | 34         | B          | -7074.53   |\n",
       "| 2016-06-01 | 10001      |  43971.11  | 160718.6   | -116747.5  | 1          | 34         | B          | -8930.43   |\n",
       "\n"
      ],
      "text/plain": [
       "  Date       CompanyID Revenue   Expenses Profit    LossFlag Employees Region\n",
       "1 2016-01-01 10001     690710.54 399434.3  291276.2 0        34        B     \n",
       "2 2016-02-01 10001     218199.33 357003.3 -138804.0 1        34        B     \n",
       "3 2016-03-01 10001     887134.93 163712.5  723422.5 0        34        B     \n",
       "4 2016-04-01 10001     505122.23 168801.5  336320.7 0        34        B     \n",
       "5 2016-05-01 10001     312168.56 417686.1 -105517.6 1        34        B     \n",
       "6 2016-06-01 10001      43971.11 160718.6 -116747.5 1        34        B     \n",
       "  BusinessValuation\n",
       "1 29038.29         \n",
       "2 -5387.12         \n",
       "3 44855.67         \n",
       "4 28444.62         \n",
       "5 -7074.53         \n",
       "6 -8930.43         "
      ]
     },
     "metadata": {},
     "output_type": "display_data"
    }
   ],
   "source": [
    "#Inspecting the ArtificialDataset\n",
    "head(ArtificialDataset)"
   ]
  },
  {
   "cell_type": "markdown",
   "metadata": {},
   "source": [
    "<h3> 2.10 ClosedFlag </h3>"
   ]
  },
  {
   "cell_type": "code",
   "execution_count": 22,
   "metadata": {},
   "outputs": [],
   "source": [
    "ArtificialDataset$ClosedFlag <- NA\n",
    "\n",
    "for(i in 1:100){    \n",
    "  a <- ArtificialDataset[which(ArtificialDataset$CompanyID == \n",
    "                                 levels(ArtificialDataset$CompanyID)[i]),]\n",
    "  \n",
    "  a$ClosedFlag <- ifelse(sum(a$Profit < 0) > 3, \n",
    "                         sample(c(0, 1), 1, replace = TRUE, prob = c(0.9, 0.1)),\n",
    "                         sample(c(0, 1), 1, replace = TRUE, prob = c(0.995, 0.005)))\n",
    "  \n",
    "  ArtificialDataset[which(ArtificialDataset$CompanyID == \n",
    "                            levels(ArtificialDataset$CompanyID)[i]),]$ClosedFlag <-\n",
    "    a$ClosedFlag\n",
    "}"
   ]
  },
  {
   "cell_type": "code",
   "execution_count": 23,
   "metadata": {},
   "outputs": [
    {
     "data": {
      "text/html": [
       "<table>\n",
       "<thead><tr><th scope=col>Date</th><th scope=col>CompanyID</th><th scope=col>Revenue</th><th scope=col>Expenses</th><th scope=col>Profit</th><th scope=col>LossFlag</th><th scope=col>Employees</th><th scope=col>Region</th><th scope=col>BusinessValuation</th><th scope=col>ClosedFlag</th></tr></thead>\n",
       "<tbody>\n",
       "\t<tr><td>2016-01-01</td><td>10001     </td><td>690710.54 </td><td>399434.3  </td><td> 291276.2 </td><td>0         </td><td>34        </td><td>B         </td><td>29038.29  </td><td>0         </td></tr>\n",
       "\t<tr><td>2016-02-01</td><td>10001     </td><td>218199.33 </td><td>357003.3  </td><td>-138804.0 </td><td>1         </td><td>34        </td><td>B         </td><td>-5387.12  </td><td>0         </td></tr>\n",
       "\t<tr><td>2016-03-01</td><td>10001     </td><td>887134.93 </td><td>163712.5  </td><td> 723422.5 </td><td>0         </td><td>34        </td><td>B         </td><td>44855.67  </td><td>0         </td></tr>\n",
       "\t<tr><td>2016-04-01</td><td>10001     </td><td>505122.23 </td><td>168801.5  </td><td> 336320.7 </td><td>0         </td><td>34        </td><td>B         </td><td>28444.62  </td><td>0         </td></tr>\n",
       "\t<tr><td>2016-05-01</td><td>10001     </td><td>312168.56 </td><td>417686.1  </td><td>-105517.6 </td><td>1         </td><td>34        </td><td>B         </td><td>-7074.53  </td><td>0         </td></tr>\n",
       "\t<tr><td>2016-06-01</td><td>10001     </td><td> 43971.11 </td><td>160718.6  </td><td>-116747.5 </td><td>1         </td><td>34        </td><td>B         </td><td>-8930.43  </td><td>0         </td></tr>\n",
       "</tbody>\n",
       "</table>\n"
      ],
      "text/latex": [
       "\\begin{tabular}{r|llllllllll}\n",
       " Date & CompanyID & Revenue & Expenses & Profit & LossFlag & Employees & Region & BusinessValuation & ClosedFlag\\\\\n",
       "\\hline\n",
       "\t 2016-01-01 & 10001      & 690710.54  & 399434.3   &  291276.2  & 0          & 34         & B          & 29038.29   & 0         \\\\\n",
       "\t 2016-02-01 & 10001      & 218199.33  & 357003.3   & -138804.0  & 1          & 34         & B          & -5387.12   & 0         \\\\\n",
       "\t 2016-03-01 & 10001      & 887134.93  & 163712.5   &  723422.5  & 0          & 34         & B          & 44855.67   & 0         \\\\\n",
       "\t 2016-04-01 & 10001      & 505122.23  & 168801.5   &  336320.7  & 0          & 34         & B          & 28444.62   & 0         \\\\\n",
       "\t 2016-05-01 & 10001      & 312168.56  & 417686.1   & -105517.6  & 1          & 34         & B          & -7074.53   & 0         \\\\\n",
       "\t 2016-06-01 & 10001      &  43971.11  & 160718.6   & -116747.5  & 1          & 34         & B          & -8930.43   & 0         \\\\\n",
       "\\end{tabular}\n"
      ],
      "text/markdown": [
       "\n",
       "| Date | CompanyID | Revenue | Expenses | Profit | LossFlag | Employees | Region | BusinessValuation | ClosedFlag |\n",
       "|---|---|---|---|---|---|---|---|---|---|\n",
       "| 2016-01-01 | 10001      | 690710.54  | 399434.3   |  291276.2  | 0          | 34         | B          | 29038.29   | 0          |\n",
       "| 2016-02-01 | 10001      | 218199.33  | 357003.3   | -138804.0  | 1          | 34         | B          | -5387.12   | 0          |\n",
       "| 2016-03-01 | 10001      | 887134.93  | 163712.5   |  723422.5  | 0          | 34         | B          | 44855.67   | 0          |\n",
       "| 2016-04-01 | 10001      | 505122.23  | 168801.5   |  336320.7  | 0          | 34         | B          | 28444.62   | 0          |\n",
       "| 2016-05-01 | 10001      | 312168.56  | 417686.1   | -105517.6  | 1          | 34         | B          | -7074.53   | 0          |\n",
       "| 2016-06-01 | 10001      |  43971.11  | 160718.6   | -116747.5  | 1          | 34         | B          | -8930.43   | 0          |\n",
       "\n"
      ],
      "text/plain": [
       "  Date       CompanyID Revenue   Expenses Profit    LossFlag Employees Region\n",
       "1 2016-01-01 10001     690710.54 399434.3  291276.2 0        34        B     \n",
       "2 2016-02-01 10001     218199.33 357003.3 -138804.0 1        34        B     \n",
       "3 2016-03-01 10001     887134.93 163712.5  723422.5 0        34        B     \n",
       "4 2016-04-01 10001     505122.23 168801.5  336320.7 0        34        B     \n",
       "5 2016-05-01 10001     312168.56 417686.1 -105517.6 1        34        B     \n",
       "6 2016-06-01 10001      43971.11 160718.6 -116747.5 1        34        B     \n",
       "  BusinessValuation ClosedFlag\n",
       "1 29038.29          0         \n",
       "2 -5387.12          0         \n",
       "3 44855.67          0         \n",
       "4 28444.62          0         \n",
       "5 -7074.53          0         \n",
       "6 -8930.43          0         "
      ]
     },
     "metadata": {},
     "output_type": "display_data"
    }
   ],
   "source": [
    "#Inspecting the ArtificialDataset\n",
    "head(ArtificialDataset)"
   ]
  },
  {
   "cell_type": "markdown",
   "metadata": {},
   "source": [
    "<h2> 3. Inspecting the Full ArtificialDataset </h2>"
   ]
  },
  {
   "cell_type": "code",
   "execution_count": 24,
   "metadata": {},
   "outputs": [
    {
     "data": {
      "text/html": [
       "<table>\n",
       "<thead><tr><th scope=col>Date</th><th scope=col>CompanyID</th><th scope=col>Revenue</th><th scope=col>Expenses</th><th scope=col>Profit</th><th scope=col>LossFlag</th><th scope=col>Employees</th><th scope=col>Region</th><th scope=col>BusinessValuation</th><th scope=col>ClosedFlag</th></tr></thead>\n",
       "<tbody>\n",
       "\t<tr><td>2016-01-01</td><td>10001     </td><td>690710.54 </td><td>399434.31 </td><td> 291276.23</td><td>0         </td><td>34        </td><td>B         </td><td> 29038.29 </td><td>0         </td></tr>\n",
       "\t<tr><td>2016-02-01</td><td>10001     </td><td>218199.33 </td><td>357003.28 </td><td>-138803.95</td><td>1         </td><td>34        </td><td>B         </td><td> -5387.12 </td><td>0         </td></tr>\n",
       "\t<tr><td>2016-03-01</td><td>10001     </td><td>887134.93 </td><td>163712.47 </td><td> 723422.46</td><td>0         </td><td>34        </td><td>B         </td><td> 44855.67 </td><td>0         </td></tr>\n",
       "\t<tr><td>2016-04-01</td><td>10001     </td><td>505122.23 </td><td>168801.52 </td><td> 336320.71</td><td>0         </td><td>34        </td><td>B         </td><td> 28444.62 </td><td>0         </td></tr>\n",
       "\t<tr><td>2016-05-01</td><td>10001     </td><td>312168.56 </td><td>417686.14 </td><td>-105517.58</td><td>1         </td><td>34        </td><td>B         </td><td> -7074.53 </td><td>0         </td></tr>\n",
       "\t<tr><td>2016-06-01</td><td>10001     </td><td> 43971.11 </td><td>160718.63 </td><td>-116747.52</td><td>1         </td><td>34        </td><td>B         </td><td> -8930.43 </td><td>0         </td></tr>\n",
       "\t<tr><td>2016-07-01</td><td>10001     </td><td>972983.26 </td><td>149589.18 </td><td> 823394.08</td><td>0         </td><td>34        </td><td>B         </td><td> 56004.82 </td><td>0         </td></tr>\n",
       "\t<tr><td>2016-08-01</td><td>10001     </td><td>107875.96 </td><td>   863.45 </td><td> 107012.51</td><td>0         </td><td>34        </td><td>B         </td><td>  9702.38 </td><td>0         </td></tr>\n",
       "\t<tr><td>2016-09-01</td><td>10001     </td><td>292321.96 </td><td>179847.88 </td><td> 112474.08</td><td>0         </td><td>34        </td><td>B         </td><td>  8319.22 </td><td>0         </td></tr>\n",
       "\t<tr><td>2016-10-01</td><td>10001     </td><td>733022.87 </td><td>382622.34 </td><td> 350400.53</td><td>0         </td><td>34        </td><td>B         </td><td> 17880.02 </td><td>0         </td></tr>\n",
       "\t<tr><td>2016-11-01</td><td>10001     </td><td>  1858.79 </td><td>130670.42 </td><td>-128811.63</td><td>1         </td><td>34        </td><td>B         </td><td>-10922.35 </td><td>0         </td></tr>\n",
       "\t<tr><td>2016-12-01</td><td>10001     </td><td>742680.68 </td><td> 22836.84 </td><td> 719843.84</td><td>0         </td><td>34        </td><td>B         </td><td> 59778.32 </td><td>0         </td></tr>\n",
       "\t<tr><td>2016-01-01</td><td>10002     </td><td>736417.27 </td><td>479408.85 </td><td> 257008.42</td><td>0         </td><td>96        </td><td>E         </td><td> 19351.25 </td><td>0         </td></tr>\n",
       "\t<tr><td>2016-02-01</td><td>10002     </td><td>477039.85 </td><td>172391.64 </td><td> 304648.21</td><td>0         </td><td>96        </td><td>E         </td><td> 25219.45 </td><td>0         </td></tr>\n",
       "\t<tr><td>2016-03-01</td><td>10002     </td><td>618509.39 </td><td> 64529.19 </td><td> 553980.20</td><td>0         </td><td>96        </td><td>E         </td><td> 34349.41 </td><td>0         </td></tr>\n",
       "\t<tr><td>2016-04-01</td><td>10002     </td><td>478659.86 </td><td>289660.71 </td><td> 188999.15</td><td>0         </td><td>96        </td><td>E         </td><td> 15080.97 </td><td>0         </td></tr>\n",
       "\t<tr><td>2016-05-01</td><td>10002     </td><td>497948.59 </td><td> 57241.11 </td><td> 440707.48</td><td>0         </td><td>96        </td><td>E         </td><td> 25535.22 </td><td>0         </td></tr>\n",
       "\t<tr><td>2016-06-01</td><td>10002     </td><td>913915.06 </td><td>368414.44 </td><td> 545500.62</td><td>0         </td><td>96        </td><td>E         </td><td> 30445.02 </td><td>0         </td></tr>\n",
       "\t<tr><td>2016-07-01</td><td>10002     </td><td>193809.04 </td><td>288166.72 </td><td> -94357.68</td><td>1         </td><td>96        </td><td>E         </td><td> -4883.73 </td><td>0         </td></tr>\n",
       "\t<tr><td>2016-08-01</td><td>10002     </td><td>521883.74 </td><td> 72781.32 </td><td> 449102.42</td><td>0         </td><td>96        </td><td>E         </td><td> 14270.07 </td><td>0         </td></tr>\n",
       "\t<tr><td>2016-09-01</td><td>10002     </td><td> 78631.27 </td><td>349126.44 </td><td>-270495.17</td><td>1         </td><td>96        </td><td>E         </td><td> -9177.86 </td><td>0         </td></tr>\n",
       "\t<tr><td>2016-10-01</td><td>10002     </td><td>265480.14 </td><td>300750.39 </td><td> -35270.25</td><td>1         </td><td>96        </td><td>E         </td><td> -3309.11 </td><td>0         </td></tr>\n",
       "\t<tr><td>2016-11-01</td><td>10002     </td><td>647594.40 </td><td>248568.26 </td><td> 399026.14</td><td>0         </td><td>96        </td><td>E         </td><td> 28791.78 </td><td>0         </td></tr>\n",
       "\t<tr><td>2016-12-01</td><td>10002     </td><td>469845.40 </td><td>350656.37 </td><td> 119189.03</td><td>0         </td><td>96        </td><td>E         </td><td>  5417.67 </td><td>0         </td></tr>\n",
       "\t<tr><td>2016-01-01</td><td>10003     </td><td>921729.69 </td><td>327986.99 </td><td> 593742.70</td><td>0         </td><td>30        </td><td>A         </td><td> 56136.28 </td><td>0         </td></tr>\n",
       "\t<tr><td>2016-02-01</td><td>10003     </td><td>191115.44 </td><td>359192.77 </td><td>-168077.33</td><td>1         </td><td>30        </td><td>A         </td><td> -8534.32 </td><td>0         </td></tr>\n",
       "\t<tr><td>2016-03-01</td><td>10003     </td><td>630893.35 </td><td>148237.84 </td><td> 482655.51</td><td>0         </td><td>30        </td><td>A         </td><td> 46943.67 </td><td>0         </td></tr>\n",
       "\t<tr><td>2016-04-01</td><td>10003     </td><td>213723.49 </td><td>464595.23 </td><td>-250871.74</td><td>1         </td><td>30        </td><td>A         </td><td>-11606.15 </td><td>0         </td></tr>\n",
       "\t<tr><td>2016-05-01</td><td>10003     </td><td>480110.56 </td><td> 95787.27 </td><td> 384323.29</td><td>0         </td><td>30        </td><td>A         </td><td> 14124.70 </td><td>0         </td></tr>\n",
       "\t<tr><td>2016-06-01</td><td>10003     </td><td>153774.76 </td><td>490957.24 </td><td>-337182.48</td><td>1         </td><td>30        </td><td>A         </td><td>-16510.47 </td><td>0         </td></tr>\n",
       "\t<tr><td>...</td><td>...</td><td>...</td><td>...</td><td>...</td><td>...</td><td>...</td><td>...</td><td>...</td><td>...</td></tr>\n",
       "\t<tr><td>2016-07-01</td><td>10098     </td><td>600680.47 </td><td>169650.21 </td><td> 431030.26</td><td>0         </td><td>91        </td><td>E         </td><td> 20983.91 </td><td>0         </td></tr>\n",
       "\t<tr><td>2016-08-01</td><td>10098     </td><td>411399.65 </td><td>260454.99 </td><td> 150944.66</td><td>0         </td><td>91        </td><td>E         </td><td> 10547.34 </td><td>0         </td></tr>\n",
       "\t<tr><td>2016-09-01</td><td>10098     </td><td>122490.08 </td><td>347915.94 </td><td>-225425.86</td><td>1         </td><td>91        </td><td>E         </td><td>-13151.78 </td><td>0         </td></tr>\n",
       "\t<tr><td>2016-10-01</td><td>10098     </td><td>784594.35 </td><td>472160.51 </td><td> 312433.84</td><td>0         </td><td>91        </td><td>E         </td><td> 18432.02 </td><td>0         </td></tr>\n",
       "\t<tr><td>2016-11-01</td><td>10098     </td><td>848360.21 </td><td>211058.36 </td><td> 637301.85</td><td>0         </td><td>91        </td><td>E         </td><td> 63102.06 </td><td>0         </td></tr>\n",
       "\t<tr><td>2016-12-01</td><td>10098     </td><td>661380.94 </td><td>423121.19 </td><td> 238259.75</td><td>0         </td><td>91        </td><td>E         </td><td>  8523.79 </td><td>0         </td></tr>\n",
       "\t<tr><td>2016-01-01</td><td>10099     </td><td>955353.22 </td><td> 87391.21 </td><td> 867962.01</td><td>0         </td><td>96        </td><td>E         </td><td> 56325.86 </td><td>0         </td></tr>\n",
       "\t<tr><td>2016-02-01</td><td>10099     </td><td>156940.38 </td><td> 22113.70 </td><td> 134826.68</td><td>0         </td><td>96        </td><td>E         </td><td>  8219.80 </td><td>0         </td></tr>\n",
       "\t<tr><td>2016-03-01</td><td>10099     </td><td>340248.38 </td><td>204429.79 </td><td> 135818.59</td><td>0         </td><td>96        </td><td>E         </td><td>  9947.56 </td><td>0         </td></tr>\n",
       "\t<tr><td>2016-04-01</td><td>10099     </td><td>346051.63 </td><td> 27835.58 </td><td> 318216.05</td><td>0         </td><td>96        </td><td>E         </td><td> 19150.48 </td><td>0         </td></tr>\n",
       "\t<tr><td>2016-05-01</td><td>10099     </td><td>809417.23 </td><td>415076.25 </td><td> 394340.98</td><td>0         </td><td>96        </td><td>E         </td><td> 13491.23 </td><td>0         </td></tr>\n",
       "\t<tr><td>2016-06-01</td><td>10099     </td><td>730618.63 </td><td>439890.36 </td><td> 290728.27</td><td>0         </td><td>96        </td><td>E         </td><td> 10343.85 </td><td>0         </td></tr>\n",
       "\t<tr><td>2016-07-01</td><td>10099     </td><td>  3623.25 </td><td>343599.27 </td><td>-339976.02</td><td>1         </td><td>96        </td><td>E         </td><td>-16288.28 </td><td>0         </td></tr>\n",
       "\t<tr><td>2016-08-01</td><td>10099     </td><td>998392.78 </td><td>124303.36 </td><td> 874089.42</td><td>0         </td><td>96        </td><td>E         </td><td> 55306.68 </td><td>0         </td></tr>\n",
       "\t<tr><td>2016-09-01</td><td>10099     </td><td>723511.19 </td><td>368121.65 </td><td> 355389.54</td><td>0         </td><td>96        </td><td>E         </td><td> 13649.69 </td><td>0         </td></tr>\n",
       "\t<tr><td>2016-10-01</td><td>10099     </td><td>674355.85 </td><td>226163.58 </td><td> 448192.27</td><td>0         </td><td>96        </td><td>E         </td><td> 42287.77 </td><td>0         </td></tr>\n",
       "\t<tr><td>2016-11-01</td><td>10099     </td><td>320521.39 </td><td>277415.80 </td><td>  43105.59</td><td>0         </td><td>96        </td><td>E         </td><td>  1648.17 </td><td>0         </td></tr>\n",
       "\t<tr><td>2016-12-01</td><td>10099     </td><td>441443.72 </td><td>224379.63 </td><td> 217064.09</td><td>0         </td><td>96        </td><td>E         </td><td> 17929.92 </td><td>0         </td></tr>\n",
       "\t<tr><td>2016-01-01</td><td>10100     </td><td>217597.81 </td><td>290728.59 </td><td> -73130.78</td><td>1         </td><td>76        </td><td>E         </td><td> -4692.92 </td><td>0         </td></tr>\n",
       "\t<tr><td>2016-02-01</td><td>10100     </td><td>458927.41 </td><td>368942.86 </td><td>  89984.55</td><td>0         </td><td>76        </td><td>E         </td><td>  8405.54 </td><td>0         </td></tr>\n",
       "\t<tr><td>2016-03-01</td><td>10100     </td><td>968099.12 </td><td>  7011.50 </td><td> 961087.62</td><td>0         </td><td>76        </td><td>E         </td><td> 94774.63 </td><td>0         </td></tr>\n",
       "\t<tr><td>2016-04-01</td><td>10100     </td><td>615242.98 </td><td> 19377.88 </td><td> 595865.10</td><td>0         </td><td>76        </td><td>E         </td><td> 21928.95 </td><td>0         </td></tr>\n",
       "\t<tr><td>2016-05-01</td><td>10100     </td><td>672445.53 </td><td> 20918.11 </td><td> 651527.42</td><td>0         </td><td>76        </td><td>E         </td><td> 54535.82 </td><td>0         </td></tr>\n",
       "\t<tr><td>2016-06-01</td><td>10100     </td><td>722783.79 </td><td>382939.95 </td><td> 339843.84</td><td>0         </td><td>76        </td><td>E         </td><td> 18095.32 </td><td>0         </td></tr>\n",
       "\t<tr><td>2016-07-01</td><td>10100     </td><td>753580.03 </td><td>385906.99 </td><td> 367673.04</td><td>0         </td><td>76        </td><td>E         </td><td> 23267.19 </td><td>0         </td></tr>\n",
       "\t<tr><td>2016-08-01</td><td>10100     </td><td>426641.38 </td><td> 95473.72 </td><td> 331167.66</td><td>0         </td><td>76        </td><td>E         </td><td> 19636.03 </td><td>0         </td></tr>\n",
       "\t<tr><td>2016-09-01</td><td>10100     </td><td>777713.74 </td><td>431493.62 </td><td> 346220.12</td><td>0         </td><td>76        </td><td>E         </td><td> 29675.60 </td><td>0         </td></tr>\n",
       "\t<tr><td>2016-10-01</td><td>10100     </td><td>354173.78 </td><td>142857.63 </td><td> 211316.15</td><td>0         </td><td>76        </td><td>E         </td><td> 11750.48 </td><td>0         </td></tr>\n",
       "\t<tr><td>2016-11-01</td><td>10100     </td><td>205451.94 </td><td>394571.60 </td><td>-189119.66</td><td>1         </td><td>76        </td><td>E         </td><td>-15348.59 </td><td>0         </td></tr>\n",
       "\t<tr><td>2016-12-01</td><td>10100     </td><td> 49645.70 </td><td>464544.08 </td><td>-414898.38</td><td>1         </td><td>76        </td><td>E         </td><td>-33960.95 </td><td>0         </td></tr>\n",
       "</tbody>\n",
       "</table>\n"
      ],
      "text/latex": [
       "\\begin{tabular}{r|llllllllll}\n",
       " Date & CompanyID & Revenue & Expenses & Profit & LossFlag & Employees & Region & BusinessValuation & ClosedFlag\\\\\n",
       "\\hline\n",
       "\t 2016-01-01 & 10001      & 690710.54  & 399434.31  &  291276.23 & 0          & 34         & B          &  29038.29  & 0         \\\\\n",
       "\t 2016-02-01 & 10001      & 218199.33  & 357003.28  & -138803.95 & 1          & 34         & B          &  -5387.12  & 0         \\\\\n",
       "\t 2016-03-01 & 10001      & 887134.93  & 163712.47  &  723422.46 & 0          & 34         & B          &  44855.67  & 0         \\\\\n",
       "\t 2016-04-01 & 10001      & 505122.23  & 168801.52  &  336320.71 & 0          & 34         & B          &  28444.62  & 0         \\\\\n",
       "\t 2016-05-01 & 10001      & 312168.56  & 417686.14  & -105517.58 & 1          & 34         & B          &  -7074.53  & 0         \\\\\n",
       "\t 2016-06-01 & 10001      &  43971.11  & 160718.63  & -116747.52 & 1          & 34         & B          &  -8930.43  & 0         \\\\\n",
       "\t 2016-07-01 & 10001      & 972983.26  & 149589.18  &  823394.08 & 0          & 34         & B          &  56004.82  & 0         \\\\\n",
       "\t 2016-08-01 & 10001      & 107875.96  &    863.45  &  107012.51 & 0          & 34         & B          &   9702.38  & 0         \\\\\n",
       "\t 2016-09-01 & 10001      & 292321.96  & 179847.88  &  112474.08 & 0          & 34         & B          &   8319.22  & 0         \\\\\n",
       "\t 2016-10-01 & 10001      & 733022.87  & 382622.34  &  350400.53 & 0          & 34         & B          &  17880.02  & 0         \\\\\n",
       "\t 2016-11-01 & 10001      &   1858.79  & 130670.42  & -128811.63 & 1          & 34         & B          & -10922.35  & 0         \\\\\n",
       "\t 2016-12-01 & 10001      & 742680.68  &  22836.84  &  719843.84 & 0          & 34         & B          &  59778.32  & 0         \\\\\n",
       "\t 2016-01-01 & 10002      & 736417.27  & 479408.85  &  257008.42 & 0          & 96         & E          &  19351.25  & 0         \\\\\n",
       "\t 2016-02-01 & 10002      & 477039.85  & 172391.64  &  304648.21 & 0          & 96         & E          &  25219.45  & 0         \\\\\n",
       "\t 2016-03-01 & 10002      & 618509.39  &  64529.19  &  553980.20 & 0          & 96         & E          &  34349.41  & 0         \\\\\n",
       "\t 2016-04-01 & 10002      & 478659.86  & 289660.71  &  188999.15 & 0          & 96         & E          &  15080.97  & 0         \\\\\n",
       "\t 2016-05-01 & 10002      & 497948.59  &  57241.11  &  440707.48 & 0          & 96         & E          &  25535.22  & 0         \\\\\n",
       "\t 2016-06-01 & 10002      & 913915.06  & 368414.44  &  545500.62 & 0          & 96         & E          &  30445.02  & 0         \\\\\n",
       "\t 2016-07-01 & 10002      & 193809.04  & 288166.72  &  -94357.68 & 1          & 96         & E          &  -4883.73  & 0         \\\\\n",
       "\t 2016-08-01 & 10002      & 521883.74  &  72781.32  &  449102.42 & 0          & 96         & E          &  14270.07  & 0         \\\\\n",
       "\t 2016-09-01 & 10002      &  78631.27  & 349126.44  & -270495.17 & 1          & 96         & E          &  -9177.86  & 0         \\\\\n",
       "\t 2016-10-01 & 10002      & 265480.14  & 300750.39  &  -35270.25 & 1          & 96         & E          &  -3309.11  & 0         \\\\\n",
       "\t 2016-11-01 & 10002      & 647594.40  & 248568.26  &  399026.14 & 0          & 96         & E          &  28791.78  & 0         \\\\\n",
       "\t 2016-12-01 & 10002      & 469845.40  & 350656.37  &  119189.03 & 0          & 96         & E          &   5417.67  & 0         \\\\\n",
       "\t 2016-01-01 & 10003      & 921729.69  & 327986.99  &  593742.70 & 0          & 30         & A          &  56136.28  & 0         \\\\\n",
       "\t 2016-02-01 & 10003      & 191115.44  & 359192.77  & -168077.33 & 1          & 30         & A          &  -8534.32  & 0         \\\\\n",
       "\t 2016-03-01 & 10003      & 630893.35  & 148237.84  &  482655.51 & 0          & 30         & A          &  46943.67  & 0         \\\\\n",
       "\t 2016-04-01 & 10003      & 213723.49  & 464595.23  & -250871.74 & 1          & 30         & A          & -11606.15  & 0         \\\\\n",
       "\t 2016-05-01 & 10003      & 480110.56  &  95787.27  &  384323.29 & 0          & 30         & A          &  14124.70  & 0         \\\\\n",
       "\t 2016-06-01 & 10003      & 153774.76  & 490957.24  & -337182.48 & 1          & 30         & A          & -16510.47  & 0         \\\\\n",
       "\t ... & ... & ... & ... & ... & ... & ... & ... & ... & ...\\\\\n",
       "\t 2016-07-01 & 10098      & 600680.47  & 169650.21  &  431030.26 & 0          & 91         & E          &  20983.91  & 0         \\\\\n",
       "\t 2016-08-01 & 10098      & 411399.65  & 260454.99  &  150944.66 & 0          & 91         & E          &  10547.34  & 0         \\\\\n",
       "\t 2016-09-01 & 10098      & 122490.08  & 347915.94  & -225425.86 & 1          & 91         & E          & -13151.78  & 0         \\\\\n",
       "\t 2016-10-01 & 10098      & 784594.35  & 472160.51  &  312433.84 & 0          & 91         & E          &  18432.02  & 0         \\\\\n",
       "\t 2016-11-01 & 10098      & 848360.21  & 211058.36  &  637301.85 & 0          & 91         & E          &  63102.06  & 0         \\\\\n",
       "\t 2016-12-01 & 10098      & 661380.94  & 423121.19  &  238259.75 & 0          & 91         & E          &   8523.79  & 0         \\\\\n",
       "\t 2016-01-01 & 10099      & 955353.22  &  87391.21  &  867962.01 & 0          & 96         & E          &  56325.86  & 0         \\\\\n",
       "\t 2016-02-01 & 10099      & 156940.38  &  22113.70  &  134826.68 & 0          & 96         & E          &   8219.80  & 0         \\\\\n",
       "\t 2016-03-01 & 10099      & 340248.38  & 204429.79  &  135818.59 & 0          & 96         & E          &   9947.56  & 0         \\\\\n",
       "\t 2016-04-01 & 10099      & 346051.63  &  27835.58  &  318216.05 & 0          & 96         & E          &  19150.48  & 0         \\\\\n",
       "\t 2016-05-01 & 10099      & 809417.23  & 415076.25  &  394340.98 & 0          & 96         & E          &  13491.23  & 0         \\\\\n",
       "\t 2016-06-01 & 10099      & 730618.63  & 439890.36  &  290728.27 & 0          & 96         & E          &  10343.85  & 0         \\\\\n",
       "\t 2016-07-01 & 10099      &   3623.25  & 343599.27  & -339976.02 & 1          & 96         & E          & -16288.28  & 0         \\\\\n",
       "\t 2016-08-01 & 10099      & 998392.78  & 124303.36  &  874089.42 & 0          & 96         & E          &  55306.68  & 0         \\\\\n",
       "\t 2016-09-01 & 10099      & 723511.19  & 368121.65  &  355389.54 & 0          & 96         & E          &  13649.69  & 0         \\\\\n",
       "\t 2016-10-01 & 10099      & 674355.85  & 226163.58  &  448192.27 & 0          & 96         & E          &  42287.77  & 0         \\\\\n",
       "\t 2016-11-01 & 10099      & 320521.39  & 277415.80  &   43105.59 & 0          & 96         & E          &   1648.17  & 0         \\\\\n",
       "\t 2016-12-01 & 10099      & 441443.72  & 224379.63  &  217064.09 & 0          & 96         & E          &  17929.92  & 0         \\\\\n",
       "\t 2016-01-01 & 10100      & 217597.81  & 290728.59  &  -73130.78 & 1          & 76         & E          &  -4692.92  & 0         \\\\\n",
       "\t 2016-02-01 & 10100      & 458927.41  & 368942.86  &   89984.55 & 0          & 76         & E          &   8405.54  & 0         \\\\\n",
       "\t 2016-03-01 & 10100      & 968099.12  &   7011.50  &  961087.62 & 0          & 76         & E          &  94774.63  & 0         \\\\\n",
       "\t 2016-04-01 & 10100      & 615242.98  &  19377.88  &  595865.10 & 0          & 76         & E          &  21928.95  & 0         \\\\\n",
       "\t 2016-05-01 & 10100      & 672445.53  &  20918.11  &  651527.42 & 0          & 76         & E          &  54535.82  & 0         \\\\\n",
       "\t 2016-06-01 & 10100      & 722783.79  & 382939.95  &  339843.84 & 0          & 76         & E          &  18095.32  & 0         \\\\\n",
       "\t 2016-07-01 & 10100      & 753580.03  & 385906.99  &  367673.04 & 0          & 76         & E          &  23267.19  & 0         \\\\\n",
       "\t 2016-08-01 & 10100      & 426641.38  &  95473.72  &  331167.66 & 0          & 76         & E          &  19636.03  & 0         \\\\\n",
       "\t 2016-09-01 & 10100      & 777713.74  & 431493.62  &  346220.12 & 0          & 76         & E          &  29675.60  & 0         \\\\\n",
       "\t 2016-10-01 & 10100      & 354173.78  & 142857.63  &  211316.15 & 0          & 76         & E          &  11750.48  & 0         \\\\\n",
       "\t 2016-11-01 & 10100      & 205451.94  & 394571.60  & -189119.66 & 1          & 76         & E          & -15348.59  & 0         \\\\\n",
       "\t 2016-12-01 & 10100      &  49645.70  & 464544.08  & -414898.38 & 1          & 76         & E          & -33960.95  & 0         \\\\\n",
       "\\end{tabular}\n"
      ],
      "text/markdown": [
       "\n",
       "| Date | CompanyID | Revenue | Expenses | Profit | LossFlag | Employees | Region | BusinessValuation | ClosedFlag |\n",
       "|---|---|---|---|---|---|---|---|---|---|\n",
       "| 2016-01-01 | 10001      | 690710.54  | 399434.31  |  291276.23 | 0          | 34         | B          |  29038.29  | 0          |\n",
       "| 2016-02-01 | 10001      | 218199.33  | 357003.28  | -138803.95 | 1          | 34         | B          |  -5387.12  | 0          |\n",
       "| 2016-03-01 | 10001      | 887134.93  | 163712.47  |  723422.46 | 0          | 34         | B          |  44855.67  | 0          |\n",
       "| 2016-04-01 | 10001      | 505122.23  | 168801.52  |  336320.71 | 0          | 34         | B          |  28444.62  | 0          |\n",
       "| 2016-05-01 | 10001      | 312168.56  | 417686.14  | -105517.58 | 1          | 34         | B          |  -7074.53  | 0          |\n",
       "| 2016-06-01 | 10001      |  43971.11  | 160718.63  | -116747.52 | 1          | 34         | B          |  -8930.43  | 0          |\n",
       "| 2016-07-01 | 10001      | 972983.26  | 149589.18  |  823394.08 | 0          | 34         | B          |  56004.82  | 0          |\n",
       "| 2016-08-01 | 10001      | 107875.96  |    863.45  |  107012.51 | 0          | 34         | B          |   9702.38  | 0          |\n",
       "| 2016-09-01 | 10001      | 292321.96  | 179847.88  |  112474.08 | 0          | 34         | B          |   8319.22  | 0          |\n",
       "| 2016-10-01 | 10001      | 733022.87  | 382622.34  |  350400.53 | 0          | 34         | B          |  17880.02  | 0          |\n",
       "| 2016-11-01 | 10001      |   1858.79  | 130670.42  | -128811.63 | 1          | 34         | B          | -10922.35  | 0          |\n",
       "| 2016-12-01 | 10001      | 742680.68  |  22836.84  |  719843.84 | 0          | 34         | B          |  59778.32  | 0          |\n",
       "| 2016-01-01 | 10002      | 736417.27  | 479408.85  |  257008.42 | 0          | 96         | E          |  19351.25  | 0          |\n",
       "| 2016-02-01 | 10002      | 477039.85  | 172391.64  |  304648.21 | 0          | 96         | E          |  25219.45  | 0          |\n",
       "| 2016-03-01 | 10002      | 618509.39  |  64529.19  |  553980.20 | 0          | 96         | E          |  34349.41  | 0          |\n",
       "| 2016-04-01 | 10002      | 478659.86  | 289660.71  |  188999.15 | 0          | 96         | E          |  15080.97  | 0          |\n",
       "| 2016-05-01 | 10002      | 497948.59  |  57241.11  |  440707.48 | 0          | 96         | E          |  25535.22  | 0          |\n",
       "| 2016-06-01 | 10002      | 913915.06  | 368414.44  |  545500.62 | 0          | 96         | E          |  30445.02  | 0          |\n",
       "| 2016-07-01 | 10002      | 193809.04  | 288166.72  |  -94357.68 | 1          | 96         | E          |  -4883.73  | 0          |\n",
       "| 2016-08-01 | 10002      | 521883.74  |  72781.32  |  449102.42 | 0          | 96         | E          |  14270.07  | 0          |\n",
       "| 2016-09-01 | 10002      |  78631.27  | 349126.44  | -270495.17 | 1          | 96         | E          |  -9177.86  | 0          |\n",
       "| 2016-10-01 | 10002      | 265480.14  | 300750.39  |  -35270.25 | 1          | 96         | E          |  -3309.11  | 0          |\n",
       "| 2016-11-01 | 10002      | 647594.40  | 248568.26  |  399026.14 | 0          | 96         | E          |  28791.78  | 0          |\n",
       "| 2016-12-01 | 10002      | 469845.40  | 350656.37  |  119189.03 | 0          | 96         | E          |   5417.67  | 0          |\n",
       "| 2016-01-01 | 10003      | 921729.69  | 327986.99  |  593742.70 | 0          | 30         | A          |  56136.28  | 0          |\n",
       "| 2016-02-01 | 10003      | 191115.44  | 359192.77  | -168077.33 | 1          | 30         | A          |  -8534.32  | 0          |\n",
       "| 2016-03-01 | 10003      | 630893.35  | 148237.84  |  482655.51 | 0          | 30         | A          |  46943.67  | 0          |\n",
       "| 2016-04-01 | 10003      | 213723.49  | 464595.23  | -250871.74 | 1          | 30         | A          | -11606.15  | 0          |\n",
       "| 2016-05-01 | 10003      | 480110.56  |  95787.27  |  384323.29 | 0          | 30         | A          |  14124.70  | 0          |\n",
       "| 2016-06-01 | 10003      | 153774.76  | 490957.24  | -337182.48 | 1          | 30         | A          | -16510.47  | 0          |\n",
       "| ... | ... | ... | ... | ... | ... | ... | ... | ... | ... |\n",
       "| 2016-07-01 | 10098      | 600680.47  | 169650.21  |  431030.26 | 0          | 91         | E          |  20983.91  | 0          |\n",
       "| 2016-08-01 | 10098      | 411399.65  | 260454.99  |  150944.66 | 0          | 91         | E          |  10547.34  | 0          |\n",
       "| 2016-09-01 | 10098      | 122490.08  | 347915.94  | -225425.86 | 1          | 91         | E          | -13151.78  | 0          |\n",
       "| 2016-10-01 | 10098      | 784594.35  | 472160.51  |  312433.84 | 0          | 91         | E          |  18432.02  | 0          |\n",
       "| 2016-11-01 | 10098      | 848360.21  | 211058.36  |  637301.85 | 0          | 91         | E          |  63102.06  | 0          |\n",
       "| 2016-12-01 | 10098      | 661380.94  | 423121.19  |  238259.75 | 0          | 91         | E          |   8523.79  | 0          |\n",
       "| 2016-01-01 | 10099      | 955353.22  |  87391.21  |  867962.01 | 0          | 96         | E          |  56325.86  | 0          |\n",
       "| 2016-02-01 | 10099      | 156940.38  |  22113.70  |  134826.68 | 0          | 96         | E          |   8219.80  | 0          |\n",
       "| 2016-03-01 | 10099      | 340248.38  | 204429.79  |  135818.59 | 0          | 96         | E          |   9947.56  | 0          |\n",
       "| 2016-04-01 | 10099      | 346051.63  |  27835.58  |  318216.05 | 0          | 96         | E          |  19150.48  | 0          |\n",
       "| 2016-05-01 | 10099      | 809417.23  | 415076.25  |  394340.98 | 0          | 96         | E          |  13491.23  | 0          |\n",
       "| 2016-06-01 | 10099      | 730618.63  | 439890.36  |  290728.27 | 0          | 96         | E          |  10343.85  | 0          |\n",
       "| 2016-07-01 | 10099      |   3623.25  | 343599.27  | -339976.02 | 1          | 96         | E          | -16288.28  | 0          |\n",
       "| 2016-08-01 | 10099      | 998392.78  | 124303.36  |  874089.42 | 0          | 96         | E          |  55306.68  | 0          |\n",
       "| 2016-09-01 | 10099      | 723511.19  | 368121.65  |  355389.54 | 0          | 96         | E          |  13649.69  | 0          |\n",
       "| 2016-10-01 | 10099      | 674355.85  | 226163.58  |  448192.27 | 0          | 96         | E          |  42287.77  | 0          |\n",
       "| 2016-11-01 | 10099      | 320521.39  | 277415.80  |   43105.59 | 0          | 96         | E          |   1648.17  | 0          |\n",
       "| 2016-12-01 | 10099      | 441443.72  | 224379.63  |  217064.09 | 0          | 96         | E          |  17929.92  | 0          |\n",
       "| 2016-01-01 | 10100      | 217597.81  | 290728.59  |  -73130.78 | 1          | 76         | E          |  -4692.92  | 0          |\n",
       "| 2016-02-01 | 10100      | 458927.41  | 368942.86  |   89984.55 | 0          | 76         | E          |   8405.54  | 0          |\n",
       "| 2016-03-01 | 10100      | 968099.12  |   7011.50  |  961087.62 | 0          | 76         | E          |  94774.63  | 0          |\n",
       "| 2016-04-01 | 10100      | 615242.98  |  19377.88  |  595865.10 | 0          | 76         | E          |  21928.95  | 0          |\n",
       "| 2016-05-01 | 10100      | 672445.53  |  20918.11  |  651527.42 | 0          | 76         | E          |  54535.82  | 0          |\n",
       "| 2016-06-01 | 10100      | 722783.79  | 382939.95  |  339843.84 | 0          | 76         | E          |  18095.32  | 0          |\n",
       "| 2016-07-01 | 10100      | 753580.03  | 385906.99  |  367673.04 | 0          | 76         | E          |  23267.19  | 0          |\n",
       "| 2016-08-01 | 10100      | 426641.38  |  95473.72  |  331167.66 | 0          | 76         | E          |  19636.03  | 0          |\n",
       "| 2016-09-01 | 10100      | 777713.74  | 431493.62  |  346220.12 | 0          | 76         | E          |  29675.60  | 0          |\n",
       "| 2016-10-01 | 10100      | 354173.78  | 142857.63  |  211316.15 | 0          | 76         | E          |  11750.48  | 0          |\n",
       "| 2016-11-01 | 10100      | 205451.94  | 394571.60  | -189119.66 | 1          | 76         | E          | -15348.59  | 0          |\n",
       "| 2016-12-01 | 10100      |  49645.70  | 464544.08  | -414898.38 | 1          | 76         | E          | -33960.95  | 0          |\n",
       "\n"
      ],
      "text/plain": [
       "     Date       CompanyID Revenue   Expenses  Profit     LossFlag Employees\n",
       "1    2016-01-01 10001     690710.54 399434.31  291276.23 0        34       \n",
       "2    2016-02-01 10001     218199.33 357003.28 -138803.95 1        34       \n",
       "3    2016-03-01 10001     887134.93 163712.47  723422.46 0        34       \n",
       "4    2016-04-01 10001     505122.23 168801.52  336320.71 0        34       \n",
       "5    2016-05-01 10001     312168.56 417686.14 -105517.58 1        34       \n",
       "6    2016-06-01 10001      43971.11 160718.63 -116747.52 1        34       \n",
       "7    2016-07-01 10001     972983.26 149589.18  823394.08 0        34       \n",
       "8    2016-08-01 10001     107875.96    863.45  107012.51 0        34       \n",
       "9    2016-09-01 10001     292321.96 179847.88  112474.08 0        34       \n",
       "10   2016-10-01 10001     733022.87 382622.34  350400.53 0        34       \n",
       "11   2016-11-01 10001       1858.79 130670.42 -128811.63 1        34       \n",
       "12   2016-12-01 10001     742680.68  22836.84  719843.84 0        34       \n",
       "13   2016-01-01 10002     736417.27 479408.85  257008.42 0        96       \n",
       "14   2016-02-01 10002     477039.85 172391.64  304648.21 0        96       \n",
       "15   2016-03-01 10002     618509.39  64529.19  553980.20 0        96       \n",
       "16   2016-04-01 10002     478659.86 289660.71  188999.15 0        96       \n",
       "17   2016-05-01 10002     497948.59  57241.11  440707.48 0        96       \n",
       "18   2016-06-01 10002     913915.06 368414.44  545500.62 0        96       \n",
       "19   2016-07-01 10002     193809.04 288166.72  -94357.68 1        96       \n",
       "20   2016-08-01 10002     521883.74  72781.32  449102.42 0        96       \n",
       "21   2016-09-01 10002      78631.27 349126.44 -270495.17 1        96       \n",
       "22   2016-10-01 10002     265480.14 300750.39  -35270.25 1        96       \n",
       "23   2016-11-01 10002     647594.40 248568.26  399026.14 0        96       \n",
       "24   2016-12-01 10002     469845.40 350656.37  119189.03 0        96       \n",
       "25   2016-01-01 10003     921729.69 327986.99  593742.70 0        30       \n",
       "26   2016-02-01 10003     191115.44 359192.77 -168077.33 1        30       \n",
       "27   2016-03-01 10003     630893.35 148237.84  482655.51 0        30       \n",
       "28   2016-04-01 10003     213723.49 464595.23 -250871.74 1        30       \n",
       "29   2016-05-01 10003     480110.56  95787.27  384323.29 0        30       \n",
       "30   2016-06-01 10003     153774.76 490957.24 -337182.48 1        30       \n",
       "...  ...        ...       ...       ...       ...        ...      ...      \n",
       "1171 2016-07-01 10098     600680.47 169650.21  431030.26 0        91       \n",
       "1172 2016-08-01 10098     411399.65 260454.99  150944.66 0        91       \n",
       "1173 2016-09-01 10098     122490.08 347915.94 -225425.86 1        91       \n",
       "1174 2016-10-01 10098     784594.35 472160.51  312433.84 0        91       \n",
       "1175 2016-11-01 10098     848360.21 211058.36  637301.85 0        91       \n",
       "1176 2016-12-01 10098     661380.94 423121.19  238259.75 0        91       \n",
       "1177 2016-01-01 10099     955353.22  87391.21  867962.01 0        96       \n",
       "1178 2016-02-01 10099     156940.38  22113.70  134826.68 0        96       \n",
       "1179 2016-03-01 10099     340248.38 204429.79  135818.59 0        96       \n",
       "1180 2016-04-01 10099     346051.63  27835.58  318216.05 0        96       \n",
       "1181 2016-05-01 10099     809417.23 415076.25  394340.98 0        96       \n",
       "1182 2016-06-01 10099     730618.63 439890.36  290728.27 0        96       \n",
       "1183 2016-07-01 10099       3623.25 343599.27 -339976.02 1        96       \n",
       "1184 2016-08-01 10099     998392.78 124303.36  874089.42 0        96       \n",
       "1185 2016-09-01 10099     723511.19 368121.65  355389.54 0        96       \n",
       "1186 2016-10-01 10099     674355.85 226163.58  448192.27 0        96       \n",
       "1187 2016-11-01 10099     320521.39 277415.80   43105.59 0        96       \n",
       "1188 2016-12-01 10099     441443.72 224379.63  217064.09 0        96       \n",
       "1189 2016-01-01 10100     217597.81 290728.59  -73130.78 1        76       \n",
       "1190 2016-02-01 10100     458927.41 368942.86   89984.55 0        76       \n",
       "1191 2016-03-01 10100     968099.12   7011.50  961087.62 0        76       \n",
       "1192 2016-04-01 10100     615242.98  19377.88  595865.10 0        76       \n",
       "1193 2016-05-01 10100     672445.53  20918.11  651527.42 0        76       \n",
       "1194 2016-06-01 10100     722783.79 382939.95  339843.84 0        76       \n",
       "1195 2016-07-01 10100     753580.03 385906.99  367673.04 0        76       \n",
       "1196 2016-08-01 10100     426641.38  95473.72  331167.66 0        76       \n",
       "1197 2016-09-01 10100     777713.74 431493.62  346220.12 0        76       \n",
       "1198 2016-10-01 10100     354173.78 142857.63  211316.15 0        76       \n",
       "1199 2016-11-01 10100     205451.94 394571.60 -189119.66 1        76       \n",
       "1200 2016-12-01 10100      49645.70 464544.08 -414898.38 1        76       \n",
       "     Region BusinessValuation ClosedFlag\n",
       "1    B       29038.29         0         \n",
       "2    B       -5387.12         0         \n",
       "3    B       44855.67         0         \n",
       "4    B       28444.62         0         \n",
       "5    B       -7074.53         0         \n",
       "6    B       -8930.43         0         \n",
       "7    B       56004.82         0         \n",
       "8    B        9702.38         0         \n",
       "9    B        8319.22         0         \n",
       "10   B       17880.02         0         \n",
       "11   B      -10922.35         0         \n",
       "12   B       59778.32         0         \n",
       "13   E       19351.25         0         \n",
       "14   E       25219.45         0         \n",
       "15   E       34349.41         0         \n",
       "16   E       15080.97         0         \n",
       "17   E       25535.22         0         \n",
       "18   E       30445.02         0         \n",
       "19   E       -4883.73         0         \n",
       "20   E       14270.07         0         \n",
       "21   E       -9177.86         0         \n",
       "22   E       -3309.11         0         \n",
       "23   E       28791.78         0         \n",
       "24   E        5417.67         0         \n",
       "25   A       56136.28         0         \n",
       "26   A       -8534.32         0         \n",
       "27   A       46943.67         0         \n",
       "28   A      -11606.15         0         \n",
       "29   A       14124.70         0         \n",
       "30   A      -16510.47         0         \n",
       "...  ...    ...               ...       \n",
       "1171 E       20983.91         0         \n",
       "1172 E       10547.34         0         \n",
       "1173 E      -13151.78         0         \n",
       "1174 E       18432.02         0         \n",
       "1175 E       63102.06         0         \n",
       "1176 E        8523.79         0         \n",
       "1177 E       56325.86         0         \n",
       "1178 E        8219.80         0         \n",
       "1179 E        9947.56         0         \n",
       "1180 E       19150.48         0         \n",
       "1181 E       13491.23         0         \n",
       "1182 E       10343.85         0         \n",
       "1183 E      -16288.28         0         \n",
       "1184 E       55306.68         0         \n",
       "1185 E       13649.69         0         \n",
       "1186 E       42287.77         0         \n",
       "1187 E        1648.17         0         \n",
       "1188 E       17929.92         0         \n",
       "1189 E       -4692.92         0         \n",
       "1190 E        8405.54         0         \n",
       "1191 E       94774.63         0         \n",
       "1192 E       21928.95         0         \n",
       "1193 E       54535.82         0         \n",
       "1194 E       18095.32         0         \n",
       "1195 E       23267.19         0         \n",
       "1196 E       19636.03         0         \n",
       "1197 E       29675.60         0         \n",
       "1198 E       11750.48         0         \n",
       "1199 E      -15348.59         0         \n",
       "1200 E      -33960.95         0         "
      ]
     },
     "metadata": {},
     "output_type": "display_data"
    }
   ],
   "source": [
    "  ArtificialDataset"
   ]
  },
  {
   "cell_type": "code",
   "execution_count": 25,
   "metadata": {
    "scrolled": true
   },
   "outputs": [
    {
     "data": {
      "text/html": [
       "<ol class=list-inline>\n",
       "\t<li>1200</li>\n",
       "\t<li>10</li>\n",
       "</ol>\n"
      ],
      "text/latex": [
       "\\begin{enumerate*}\n",
       "\\item 1200\n",
       "\\item 10\n",
       "\\end{enumerate*}\n"
      ],
      "text/markdown": [
       "1. 1200\n",
       "2. 10\n",
       "\n",
       "\n"
      ],
      "text/plain": [
       "[1] 1200   10"
      ]
     },
     "metadata": {},
     "output_type": "display_data"
    },
    {
     "name": "stdout",
     "output_type": "stream",
     "text": [
      "'data.frame':\t1200 obs. of  10 variables:\n",
      " $ Date             : Date, format: \"2016-01-01\" \"2016-02-01\" ...\n",
      " $ CompanyID        : Factor w/ 100 levels \"10001\",\"10002\",..: 1 1 1 1 1 1 1 1 1 1 ...\n",
      " $ Revenue          : num  690711 218199 887135 505122 312169 ...\n",
      " $ Expenses         : num  399434 357003 163712 168802 417686 ...\n",
      " $ Profit           : num  291276 -138804 723422 336321 -105518 ...\n",
      " $ LossFlag         : num  0 1 0 0 1 1 0 0 0 0 ...\n",
      " $ Employees        : num  34 34 34 34 34 34 34 34 34 34 ...\n",
      " $ Region           : chr  \"B\" \"B\" \"B\" \"B\" ...\n",
      " $ BusinessValuation: num  29038 -5387 44856 28445 -7075 ...\n",
      " $ ClosedFlag       : num  0 0 0 0 0 0 0 0 0 0 ...\n"
     ]
    }
   ],
   "source": [
    "dim(ArtificialDataset)\n",
    "str(ArtificialDataset)"
   ]
  },
  {
   "cell_type": "markdown",
   "metadata": {},
   "source": [
    "From the structure of the Dataset is clear that some variables' formats needed to be changed."
   ]
  },
  {
   "cell_type": "code",
   "execution_count": 26,
   "metadata": {},
   "outputs": [],
   "source": [
    "ArtificialDataset$LossFlag <- as.factor(ArtificialDataset$LossFlag)\n",
    "ArtificialDataset$Region <- as.factor(ArtificialDataset$Region)\n",
    "ArtificialDataset$ClosedFlag <- as.factor(ArtificialDataset$ClosedFlag)"
   ]
  },
  {
   "cell_type": "code",
   "execution_count": 27,
   "metadata": {},
   "outputs": [
    {
     "name": "stdout",
     "output_type": "stream",
     "text": [
      "'data.frame':\t1200 obs. of  10 variables:\n",
      " $ Date             : Date, format: \"2016-01-01\" \"2016-02-01\" ...\n",
      " $ CompanyID        : Factor w/ 100 levels \"10001\",\"10002\",..: 1 1 1 1 1 1 1 1 1 1 ...\n",
      " $ Revenue          : num  690711 218199 887135 505122 312169 ...\n",
      " $ Expenses         : num  399434 357003 163712 168802 417686 ...\n",
      " $ Profit           : num  291276 -138804 723422 336321 -105518 ...\n",
      " $ LossFlag         : Factor w/ 2 levels \"0\",\"1\": 1 2 1 1 2 2 1 1 1 1 ...\n",
      " $ Employees        : num  34 34 34 34 34 34 34 34 34 34 ...\n",
      " $ Region           : Factor w/ 5 levels \"A\",\"B\",\"C\",\"D\",..: 2 2 2 2 2 2 2 2 2 2 ...\n",
      " $ BusinessValuation: num  29038 -5387 44856 28445 -7075 ...\n",
      " $ ClosedFlag       : Factor w/ 2 levels \"0\",\"1\": 1 1 1 1 1 1 1 1 1 1 ...\n"
     ]
    },
    {
     "data": {
      "text/plain": [
       "      Date              CompanyID       Revenue            Expenses       \n",
       " Min.   :2016-01-01   10001  :  12   Min.   :   525.1   Min.   :   863.5  \n",
       " 1st Qu.:2016-03-24   10002  :  12   1st Qu.:259395.6   1st Qu.:130226.8  \n",
       " Median :2016-06-16   10003  :  12   Median :510784.8   Median :259458.4  \n",
       " Mean   :2016-06-16   10004  :  12   Mean   :508448.2   Mean   :254895.0  \n",
       " 3rd Qu.:2016-09-08   10005  :  12   3rd Qu.:759357.1   3rd Qu.:381613.0  \n",
       " Max.   :2016-12-01   10006  :  12   Max.   :999428.7   Max.   :499749.5  \n",
       "                      (Other):1128                                        \n",
       "     Profit        LossFlag   Employees      Region  BusinessValuation  \n",
       " Min.   :-452175   0:900    Min.   : 11.00   A:300   Min.   :-40385.25  \n",
       " 1st Qu.:   1071   1:300    1st Qu.: 25.50   B:240   1st Qu.:    98.57  \n",
       " Median : 255008            Median : 55.00   C:156   Median : 14738.09  \n",
       " Mean   : 253553            Mean   : 53.45   D: 60   Mean   : 16238.44  \n",
       " 3rd Qu.: 498591            3rd Qu.: 78.00   E:444   3rd Qu.: 29780.44  \n",
       " Max.   : 986410            Max.   :100.00           Max.   : 94774.63  \n",
       "                                                                        \n",
       " ClosedFlag\n",
       " 0:1152    \n",
       " 1:  48    \n",
       "           \n",
       "           \n",
       "           \n",
       "           \n",
       "           "
      ]
     },
     "metadata": {},
     "output_type": "display_data"
    }
   ],
   "source": [
    "#New inspection of the ArtificialDataset\n",
    "str(ArtificialDataset)\n",
    "summary(ArtificialDataset)"
   ]
  },
  {
   "cell_type": "markdown",
   "metadata": {},
   "source": [
    "Every variable is in the correct type and range."
   ]
  },
  {
   "cell_type": "markdown",
   "metadata": {},
   "source": [
    "<h2> 4. Creating the missing values of the ArtificialDataset </h2>"
   ]
  },
  {
   "cell_type": "markdown",
   "metadata": {},
   "source": [
    "<h3> 4.1 Revenue </h3>"
   ]
  },
  {
   "cell_type": "code",
   "execution_count": 28,
   "metadata": {},
   "outputs": [],
   "source": [
    "for(i in sample(1:1200, 0.01*nrow(ArtificialDataset), replace = TRUE)){\n",
    "  ArtificialDataset$Revenue[i] <- NA\n",
    "}"
   ]
  },
  {
   "cell_type": "markdown",
   "metadata": {},
   "source": [
    "<h3> 4.2 Expenses </h3>"
   ]
  },
  {
   "cell_type": "code",
   "execution_count": 29,
   "metadata": {},
   "outputs": [],
   "source": [
    "for(i in sample(1:1200, 0.01*nrow(ArtificialDataset), replace = TRUE)){\n",
    "  ArtificialDataset$Expenses[i] <- NA\n",
    "}"
   ]
  },
  {
   "cell_type": "markdown",
   "metadata": {},
   "source": [
    "<h3> 4.3 Profit </h3>"
   ]
  },
  {
   "cell_type": "code",
   "execution_count": 30,
   "metadata": {},
   "outputs": [],
   "source": [
    "for(i in sample(1:1200, 0.01*nrow(ArtificialDataset), replace = TRUE)){\n",
    "  ArtificialDataset$Profit[i] <- NA\n",
    "}"
   ]
  },
  {
   "cell_type": "markdown",
   "metadata": {},
   "source": [
    "<h3> 4.4 LossFlag </h3>"
   ]
  },
  {
   "cell_type": "code",
   "execution_count": 31,
   "metadata": {},
   "outputs": [],
   "source": [
    "for(i in sample(1:1200, 0.01*nrow(ArtificialDataset), replace = TRUE)){\n",
    "  ArtificialDataset$LossFlag[i] <- NA\n",
    "}"
   ]
  },
  {
   "cell_type": "markdown",
   "metadata": {},
   "source": [
    "<h2> 5. Inspecting the Final ArtificialDataset </h2>"
   ]
  },
  {
   "cell_type": "code",
   "execution_count": 32,
   "metadata": {},
   "outputs": [
    {
     "data": {
      "text/html": [
       "<table>\n",
       "<thead><tr><th scope=col>Date</th><th scope=col>CompanyID</th><th scope=col>Revenue</th><th scope=col>Expenses</th><th scope=col>Profit</th><th scope=col>LossFlag</th><th scope=col>Employees</th><th scope=col>Region</th><th scope=col>BusinessValuation</th><th scope=col>ClosedFlag</th></tr></thead>\n",
       "<tbody>\n",
       "\t<tr><td>2016-01-01</td><td>10001     </td><td>690710.54 </td><td>399434.31 </td><td> 291276.23</td><td>0         </td><td>34        </td><td>B         </td><td> 29038.29 </td><td>0         </td></tr>\n",
       "\t<tr><td>2016-02-01</td><td>10001     </td><td>218199.33 </td><td>357003.28 </td><td>-138803.95</td><td>1         </td><td>34        </td><td>B         </td><td> -5387.12 </td><td>0         </td></tr>\n",
       "\t<tr><td>2016-03-01</td><td>10001     </td><td>887134.93 </td><td>       NA </td><td> 723422.46</td><td>0         </td><td>34        </td><td>B         </td><td> 44855.67 </td><td>0         </td></tr>\n",
       "\t<tr><td>2016-04-01</td><td>10001     </td><td>505122.23 </td><td>168801.52 </td><td> 336320.71</td><td>0         </td><td>34        </td><td>B         </td><td> 28444.62 </td><td>0         </td></tr>\n",
       "\t<tr><td>2016-05-01</td><td>10001     </td><td>312168.56 </td><td>417686.14 </td><td>-105517.58</td><td>1         </td><td>34        </td><td>B         </td><td> -7074.53 </td><td>0         </td></tr>\n",
       "\t<tr><td>2016-06-01</td><td>10001     </td><td> 43971.11 </td><td>160718.63 </td><td>-116747.52</td><td>1         </td><td>34        </td><td>B         </td><td> -8930.43 </td><td>0         </td></tr>\n",
       "\t<tr><td>2016-07-01</td><td>10001     </td><td>972983.26 </td><td>149589.18 </td><td> 823394.08</td><td>0         </td><td>34        </td><td>B         </td><td> 56004.82 </td><td>0         </td></tr>\n",
       "\t<tr><td>2016-08-01</td><td>10001     </td><td>107875.96 </td><td>   863.45 </td><td> 107012.51</td><td>0         </td><td>34        </td><td>B         </td><td>  9702.38 </td><td>0         </td></tr>\n",
       "\t<tr><td>2016-09-01</td><td>10001     </td><td>292321.96 </td><td>179847.88 </td><td> 112474.08</td><td>0         </td><td>34        </td><td>B         </td><td>  8319.22 </td><td>0         </td></tr>\n",
       "\t<tr><td>2016-10-01</td><td>10001     </td><td>733022.87 </td><td>382622.34 </td><td> 350400.53</td><td>0         </td><td>34        </td><td>B         </td><td> 17880.02 </td><td>0         </td></tr>\n",
       "\t<tr><td>2016-11-01</td><td>10001     </td><td>  1858.79 </td><td>130670.42 </td><td>-128811.63</td><td>1         </td><td>34        </td><td>B         </td><td>-10922.35 </td><td>0         </td></tr>\n",
       "\t<tr><td>2016-12-01</td><td>10001     </td><td>742680.68 </td><td> 22836.84 </td><td> 719843.84</td><td>0         </td><td>34        </td><td>B         </td><td> 59778.32 </td><td>0         </td></tr>\n",
       "\t<tr><td>2016-01-01</td><td>10002     </td><td>736417.27 </td><td>       NA </td><td> 257008.42</td><td>0         </td><td>96        </td><td>E         </td><td> 19351.25 </td><td>0         </td></tr>\n",
       "\t<tr><td>2016-02-01</td><td>10002     </td><td>477039.85 </td><td>172391.64 </td><td> 304648.21</td><td>0         </td><td>96        </td><td>E         </td><td> 25219.45 </td><td>0         </td></tr>\n",
       "\t<tr><td>2016-03-01</td><td>10002     </td><td>618509.39 </td><td> 64529.19 </td><td> 553980.20</td><td>0         </td><td>96        </td><td>E         </td><td> 34349.41 </td><td>0         </td></tr>\n",
       "\t<tr><td>2016-04-01</td><td>10002     </td><td>478659.86 </td><td>289660.71 </td><td> 188999.15</td><td>0         </td><td>96        </td><td>E         </td><td> 15080.97 </td><td>0         </td></tr>\n",
       "\t<tr><td>2016-05-01</td><td>10002     </td><td>497948.59 </td><td> 57241.11 </td><td> 440707.48</td><td>0         </td><td>96        </td><td>E         </td><td> 25535.22 </td><td>0         </td></tr>\n",
       "\t<tr><td>2016-06-01</td><td>10002     </td><td>913915.06 </td><td>368414.44 </td><td> 545500.62</td><td>0         </td><td>96        </td><td>E         </td><td> 30445.02 </td><td>0         </td></tr>\n",
       "\t<tr><td>2016-07-01</td><td>10002     </td><td>193809.04 </td><td>288166.72 </td><td> -94357.68</td><td>1         </td><td>96        </td><td>E         </td><td> -4883.73 </td><td>0         </td></tr>\n",
       "\t<tr><td>2016-08-01</td><td>10002     </td><td>521883.74 </td><td> 72781.32 </td><td> 449102.42</td><td>NA        </td><td>96        </td><td>E         </td><td> 14270.07 </td><td>0         </td></tr>\n",
       "\t<tr><td>2016-09-01</td><td>10002     </td><td> 78631.27 </td><td>349126.44 </td><td>-270495.17</td><td>1         </td><td>96        </td><td>E         </td><td> -9177.86 </td><td>0         </td></tr>\n",
       "\t<tr><td>2016-10-01</td><td>10002     </td><td>265480.14 </td><td>300750.39 </td><td> -35270.25</td><td>1         </td><td>96        </td><td>E         </td><td> -3309.11 </td><td>0         </td></tr>\n",
       "\t<tr><td>2016-11-01</td><td>10002     </td><td>647594.40 </td><td>248568.26 </td><td> 399026.14</td><td>0         </td><td>96        </td><td>E         </td><td> 28791.78 </td><td>0         </td></tr>\n",
       "\t<tr><td>2016-12-01</td><td>10002     </td><td>469845.40 </td><td>350656.37 </td><td> 119189.03</td><td>0         </td><td>96        </td><td>E         </td><td>  5417.67 </td><td>0         </td></tr>\n",
       "\t<tr><td>2016-01-01</td><td>10003     </td><td>921729.69 </td><td>327986.99 </td><td> 593742.70</td><td>0         </td><td>30        </td><td>A         </td><td> 56136.28 </td><td>0         </td></tr>\n",
       "\t<tr><td>2016-02-01</td><td>10003     </td><td>191115.44 </td><td>359192.77 </td><td>-168077.33</td><td>1         </td><td>30        </td><td>A         </td><td> -8534.32 </td><td>0         </td></tr>\n",
       "\t<tr><td>2016-03-01</td><td>10003     </td><td>630893.35 </td><td>148237.84 </td><td> 482655.51</td><td>0         </td><td>30        </td><td>A         </td><td> 46943.67 </td><td>0         </td></tr>\n",
       "\t<tr><td>2016-04-01</td><td>10003     </td><td>213723.49 </td><td>464595.23 </td><td>-250871.74</td><td>1         </td><td>30        </td><td>A         </td><td>-11606.15 </td><td>0         </td></tr>\n",
       "\t<tr><td>2016-05-01</td><td>10003     </td><td>480110.56 </td><td> 95787.27 </td><td> 384323.29</td><td>0         </td><td>30        </td><td>A         </td><td> 14124.70 </td><td>0         </td></tr>\n",
       "\t<tr><td>2016-06-01</td><td>10003     </td><td>153774.76 </td><td>490957.24 </td><td>-337182.48</td><td>1         </td><td>30        </td><td>A         </td><td>-16510.47 </td><td>0         </td></tr>\n",
       "\t<tr><td>...</td><td>...</td><td>...</td><td>...</td><td>...</td><td>...</td><td>...</td><td>...</td><td>...</td><td>...</td></tr>\n",
       "\t<tr><td>2016-07-01</td><td>10098     </td><td>600680.47 </td><td>169650.21 </td><td> 431030.26</td><td>0         </td><td>91        </td><td>E         </td><td> 20983.91 </td><td>0         </td></tr>\n",
       "\t<tr><td>2016-08-01</td><td>10098     </td><td>411399.65 </td><td>260454.99 </td><td> 150944.66</td><td>0         </td><td>91        </td><td>E         </td><td> 10547.34 </td><td>0         </td></tr>\n",
       "\t<tr><td>2016-09-01</td><td>10098     </td><td>122490.08 </td><td>347915.94 </td><td>-225425.86</td><td>1         </td><td>91        </td><td>E         </td><td>-13151.78 </td><td>0         </td></tr>\n",
       "\t<tr><td>2016-10-01</td><td>10098     </td><td>784594.35 </td><td>472160.51 </td><td> 312433.84</td><td>0         </td><td>91        </td><td>E         </td><td> 18432.02 </td><td>0         </td></tr>\n",
       "\t<tr><td>2016-11-01</td><td>10098     </td><td>848360.21 </td><td>211058.36 </td><td> 637301.85</td><td>0         </td><td>91        </td><td>E         </td><td> 63102.06 </td><td>0         </td></tr>\n",
       "\t<tr><td>2016-12-01</td><td>10098     </td><td>661380.94 </td><td>423121.19 </td><td> 238259.75</td><td>0         </td><td>91        </td><td>E         </td><td>  8523.79 </td><td>0         </td></tr>\n",
       "\t<tr><td>2016-01-01</td><td>10099     </td><td>955353.22 </td><td> 87391.21 </td><td> 867962.01</td><td>0         </td><td>96        </td><td>E         </td><td> 56325.86 </td><td>0         </td></tr>\n",
       "\t<tr><td>2016-02-01</td><td>10099     </td><td>156940.38 </td><td> 22113.70 </td><td> 134826.68</td><td>0         </td><td>96        </td><td>E         </td><td>  8219.80 </td><td>0         </td></tr>\n",
       "\t<tr><td>2016-03-01</td><td>10099     </td><td>340248.38 </td><td>204429.79 </td><td> 135818.59</td><td>0         </td><td>96        </td><td>E         </td><td>  9947.56 </td><td>0         </td></tr>\n",
       "\t<tr><td>2016-04-01</td><td>10099     </td><td>346051.63 </td><td> 27835.58 </td><td> 318216.05</td><td>0         </td><td>96        </td><td>E         </td><td> 19150.48 </td><td>0         </td></tr>\n",
       "\t<tr><td>2016-05-01</td><td>10099     </td><td>809417.23 </td><td>415076.25 </td><td> 394340.98</td><td>0         </td><td>96        </td><td>E         </td><td> 13491.23 </td><td>0         </td></tr>\n",
       "\t<tr><td>2016-06-01</td><td>10099     </td><td>730618.63 </td><td>439890.36 </td><td> 290728.27</td><td>0         </td><td>96        </td><td>E         </td><td> 10343.85 </td><td>0         </td></tr>\n",
       "\t<tr><td>2016-07-01</td><td>10099     </td><td>  3623.25 </td><td>343599.27 </td><td>-339976.02</td><td>1         </td><td>96        </td><td>E         </td><td>-16288.28 </td><td>0         </td></tr>\n",
       "\t<tr><td>2016-08-01</td><td>10099     </td><td>998392.78 </td><td>124303.36 </td><td> 874089.42</td><td>0         </td><td>96        </td><td>E         </td><td> 55306.68 </td><td>0         </td></tr>\n",
       "\t<tr><td>2016-09-01</td><td>10099     </td><td>723511.19 </td><td>368121.65 </td><td> 355389.54</td><td>0         </td><td>96        </td><td>E         </td><td> 13649.69 </td><td>0         </td></tr>\n",
       "\t<tr><td>2016-10-01</td><td>10099     </td><td>674355.85 </td><td>226163.58 </td><td> 448192.27</td><td>0         </td><td>96        </td><td>E         </td><td> 42287.77 </td><td>0         </td></tr>\n",
       "\t<tr><td>2016-11-01</td><td>10099     </td><td>320521.39 </td><td>277415.80 </td><td>  43105.59</td><td>0         </td><td>96        </td><td>E         </td><td>  1648.17 </td><td>0         </td></tr>\n",
       "\t<tr><td>2016-12-01</td><td>10099     </td><td>441443.72 </td><td>224379.63 </td><td> 217064.09</td><td>0         </td><td>96        </td><td>E         </td><td> 17929.92 </td><td>0         </td></tr>\n",
       "\t<tr><td>2016-01-01</td><td>10100     </td><td>217597.81 </td><td>290728.59 </td><td> -73130.78</td><td>1         </td><td>76        </td><td>E         </td><td> -4692.92 </td><td>0         </td></tr>\n",
       "\t<tr><td>2016-02-01</td><td>10100     </td><td>458927.41 </td><td>368942.86 </td><td>  89984.55</td><td>0         </td><td>76        </td><td>E         </td><td>  8405.54 </td><td>0         </td></tr>\n",
       "\t<tr><td>2016-03-01</td><td>10100     </td><td>968099.12 </td><td>  7011.50 </td><td> 961087.62</td><td>0         </td><td>76        </td><td>E         </td><td> 94774.63 </td><td>0         </td></tr>\n",
       "\t<tr><td>2016-04-01</td><td>10100     </td><td>615242.98 </td><td> 19377.88 </td><td> 595865.10</td><td>0         </td><td>76        </td><td>E         </td><td> 21928.95 </td><td>0         </td></tr>\n",
       "\t<tr><td>2016-05-01</td><td>10100     </td><td>672445.53 </td><td> 20918.11 </td><td> 651527.42</td><td>0         </td><td>76        </td><td>E         </td><td> 54535.82 </td><td>0         </td></tr>\n",
       "\t<tr><td>2016-06-01</td><td>10100     </td><td>722783.79 </td><td>382939.95 </td><td> 339843.84</td><td>0         </td><td>76        </td><td>E         </td><td> 18095.32 </td><td>0         </td></tr>\n",
       "\t<tr><td>2016-07-01</td><td>10100     </td><td>753580.03 </td><td>385906.99 </td><td> 367673.04</td><td>0         </td><td>76        </td><td>E         </td><td> 23267.19 </td><td>0         </td></tr>\n",
       "\t<tr><td>2016-08-01</td><td>10100     </td><td>426641.38 </td><td> 95473.72 </td><td> 331167.66</td><td>0         </td><td>76        </td><td>E         </td><td> 19636.03 </td><td>0         </td></tr>\n",
       "\t<tr><td>2016-09-01</td><td>10100     </td><td>777713.74 </td><td>431493.62 </td><td> 346220.12</td><td>0         </td><td>76        </td><td>E         </td><td> 29675.60 </td><td>0         </td></tr>\n",
       "\t<tr><td>2016-10-01</td><td>10100     </td><td>354173.78 </td><td>142857.63 </td><td> 211316.15</td><td>0         </td><td>76        </td><td>E         </td><td> 11750.48 </td><td>0         </td></tr>\n",
       "\t<tr><td>2016-11-01</td><td>10100     </td><td>205451.94 </td><td>394571.60 </td><td>-189119.66</td><td>1         </td><td>76        </td><td>E         </td><td>-15348.59 </td><td>0         </td></tr>\n",
       "\t<tr><td>2016-12-01</td><td>10100     </td><td> 49645.70 </td><td>464544.08 </td><td>-414898.38</td><td>1         </td><td>76        </td><td>E         </td><td>-33960.95 </td><td>0         </td></tr>\n",
       "</tbody>\n",
       "</table>\n"
      ],
      "text/latex": [
       "\\begin{tabular}{r|llllllllll}\n",
       " Date & CompanyID & Revenue & Expenses & Profit & LossFlag & Employees & Region & BusinessValuation & ClosedFlag\\\\\n",
       "\\hline\n",
       "\t 2016-01-01 & 10001      & 690710.54  & 399434.31  &  291276.23 & 0          & 34         & B          &  29038.29  & 0         \\\\\n",
       "\t 2016-02-01 & 10001      & 218199.33  & 357003.28  & -138803.95 & 1          & 34         & B          &  -5387.12  & 0         \\\\\n",
       "\t 2016-03-01 & 10001      & 887134.93  &        NA  &  723422.46 & 0          & 34         & B          &  44855.67  & 0         \\\\\n",
       "\t 2016-04-01 & 10001      & 505122.23  & 168801.52  &  336320.71 & 0          & 34         & B          &  28444.62  & 0         \\\\\n",
       "\t 2016-05-01 & 10001      & 312168.56  & 417686.14  & -105517.58 & 1          & 34         & B          &  -7074.53  & 0         \\\\\n",
       "\t 2016-06-01 & 10001      &  43971.11  & 160718.63  & -116747.52 & 1          & 34         & B          &  -8930.43  & 0         \\\\\n",
       "\t 2016-07-01 & 10001      & 972983.26  & 149589.18  &  823394.08 & 0          & 34         & B          &  56004.82  & 0         \\\\\n",
       "\t 2016-08-01 & 10001      & 107875.96  &    863.45  &  107012.51 & 0          & 34         & B          &   9702.38  & 0         \\\\\n",
       "\t 2016-09-01 & 10001      & 292321.96  & 179847.88  &  112474.08 & 0          & 34         & B          &   8319.22  & 0         \\\\\n",
       "\t 2016-10-01 & 10001      & 733022.87  & 382622.34  &  350400.53 & 0          & 34         & B          &  17880.02  & 0         \\\\\n",
       "\t 2016-11-01 & 10001      &   1858.79  & 130670.42  & -128811.63 & 1          & 34         & B          & -10922.35  & 0         \\\\\n",
       "\t 2016-12-01 & 10001      & 742680.68  &  22836.84  &  719843.84 & 0          & 34         & B          &  59778.32  & 0         \\\\\n",
       "\t 2016-01-01 & 10002      & 736417.27  &        NA  &  257008.42 & 0          & 96         & E          &  19351.25  & 0         \\\\\n",
       "\t 2016-02-01 & 10002      & 477039.85  & 172391.64  &  304648.21 & 0          & 96         & E          &  25219.45  & 0         \\\\\n",
       "\t 2016-03-01 & 10002      & 618509.39  &  64529.19  &  553980.20 & 0          & 96         & E          &  34349.41  & 0         \\\\\n",
       "\t 2016-04-01 & 10002      & 478659.86  & 289660.71  &  188999.15 & 0          & 96         & E          &  15080.97  & 0         \\\\\n",
       "\t 2016-05-01 & 10002      & 497948.59  &  57241.11  &  440707.48 & 0          & 96         & E          &  25535.22  & 0         \\\\\n",
       "\t 2016-06-01 & 10002      & 913915.06  & 368414.44  &  545500.62 & 0          & 96         & E          &  30445.02  & 0         \\\\\n",
       "\t 2016-07-01 & 10002      & 193809.04  & 288166.72  &  -94357.68 & 1          & 96         & E          &  -4883.73  & 0         \\\\\n",
       "\t 2016-08-01 & 10002      & 521883.74  &  72781.32  &  449102.42 & NA         & 96         & E          &  14270.07  & 0         \\\\\n",
       "\t 2016-09-01 & 10002      &  78631.27  & 349126.44  & -270495.17 & 1          & 96         & E          &  -9177.86  & 0         \\\\\n",
       "\t 2016-10-01 & 10002      & 265480.14  & 300750.39  &  -35270.25 & 1          & 96         & E          &  -3309.11  & 0         \\\\\n",
       "\t 2016-11-01 & 10002      & 647594.40  & 248568.26  &  399026.14 & 0          & 96         & E          &  28791.78  & 0         \\\\\n",
       "\t 2016-12-01 & 10002      & 469845.40  & 350656.37  &  119189.03 & 0          & 96         & E          &   5417.67  & 0         \\\\\n",
       "\t 2016-01-01 & 10003      & 921729.69  & 327986.99  &  593742.70 & 0          & 30         & A          &  56136.28  & 0         \\\\\n",
       "\t 2016-02-01 & 10003      & 191115.44  & 359192.77  & -168077.33 & 1          & 30         & A          &  -8534.32  & 0         \\\\\n",
       "\t 2016-03-01 & 10003      & 630893.35  & 148237.84  &  482655.51 & 0          & 30         & A          &  46943.67  & 0         \\\\\n",
       "\t 2016-04-01 & 10003      & 213723.49  & 464595.23  & -250871.74 & 1          & 30         & A          & -11606.15  & 0         \\\\\n",
       "\t 2016-05-01 & 10003      & 480110.56  &  95787.27  &  384323.29 & 0          & 30         & A          &  14124.70  & 0         \\\\\n",
       "\t 2016-06-01 & 10003      & 153774.76  & 490957.24  & -337182.48 & 1          & 30         & A          & -16510.47  & 0         \\\\\n",
       "\t ... & ... & ... & ... & ... & ... & ... & ... & ... & ...\\\\\n",
       "\t 2016-07-01 & 10098      & 600680.47  & 169650.21  &  431030.26 & 0          & 91         & E          &  20983.91  & 0         \\\\\n",
       "\t 2016-08-01 & 10098      & 411399.65  & 260454.99  &  150944.66 & 0          & 91         & E          &  10547.34  & 0         \\\\\n",
       "\t 2016-09-01 & 10098      & 122490.08  & 347915.94  & -225425.86 & 1          & 91         & E          & -13151.78  & 0         \\\\\n",
       "\t 2016-10-01 & 10098      & 784594.35  & 472160.51  &  312433.84 & 0          & 91         & E          &  18432.02  & 0         \\\\\n",
       "\t 2016-11-01 & 10098      & 848360.21  & 211058.36  &  637301.85 & 0          & 91         & E          &  63102.06  & 0         \\\\\n",
       "\t 2016-12-01 & 10098      & 661380.94  & 423121.19  &  238259.75 & 0          & 91         & E          &   8523.79  & 0         \\\\\n",
       "\t 2016-01-01 & 10099      & 955353.22  &  87391.21  &  867962.01 & 0          & 96         & E          &  56325.86  & 0         \\\\\n",
       "\t 2016-02-01 & 10099      & 156940.38  &  22113.70  &  134826.68 & 0          & 96         & E          &   8219.80  & 0         \\\\\n",
       "\t 2016-03-01 & 10099      & 340248.38  & 204429.79  &  135818.59 & 0          & 96         & E          &   9947.56  & 0         \\\\\n",
       "\t 2016-04-01 & 10099      & 346051.63  &  27835.58  &  318216.05 & 0          & 96         & E          &  19150.48  & 0         \\\\\n",
       "\t 2016-05-01 & 10099      & 809417.23  & 415076.25  &  394340.98 & 0          & 96         & E          &  13491.23  & 0         \\\\\n",
       "\t 2016-06-01 & 10099      & 730618.63  & 439890.36  &  290728.27 & 0          & 96         & E          &  10343.85  & 0         \\\\\n",
       "\t 2016-07-01 & 10099      &   3623.25  & 343599.27  & -339976.02 & 1          & 96         & E          & -16288.28  & 0         \\\\\n",
       "\t 2016-08-01 & 10099      & 998392.78  & 124303.36  &  874089.42 & 0          & 96         & E          &  55306.68  & 0         \\\\\n",
       "\t 2016-09-01 & 10099      & 723511.19  & 368121.65  &  355389.54 & 0          & 96         & E          &  13649.69  & 0         \\\\\n",
       "\t 2016-10-01 & 10099      & 674355.85  & 226163.58  &  448192.27 & 0          & 96         & E          &  42287.77  & 0         \\\\\n",
       "\t 2016-11-01 & 10099      & 320521.39  & 277415.80  &   43105.59 & 0          & 96         & E          &   1648.17  & 0         \\\\\n",
       "\t 2016-12-01 & 10099      & 441443.72  & 224379.63  &  217064.09 & 0          & 96         & E          &  17929.92  & 0         \\\\\n",
       "\t 2016-01-01 & 10100      & 217597.81  & 290728.59  &  -73130.78 & 1          & 76         & E          &  -4692.92  & 0         \\\\\n",
       "\t 2016-02-01 & 10100      & 458927.41  & 368942.86  &   89984.55 & 0          & 76         & E          &   8405.54  & 0         \\\\\n",
       "\t 2016-03-01 & 10100      & 968099.12  &   7011.50  &  961087.62 & 0          & 76         & E          &  94774.63  & 0         \\\\\n",
       "\t 2016-04-01 & 10100      & 615242.98  &  19377.88  &  595865.10 & 0          & 76         & E          &  21928.95  & 0         \\\\\n",
       "\t 2016-05-01 & 10100      & 672445.53  &  20918.11  &  651527.42 & 0          & 76         & E          &  54535.82  & 0         \\\\\n",
       "\t 2016-06-01 & 10100      & 722783.79  & 382939.95  &  339843.84 & 0          & 76         & E          &  18095.32  & 0         \\\\\n",
       "\t 2016-07-01 & 10100      & 753580.03  & 385906.99  &  367673.04 & 0          & 76         & E          &  23267.19  & 0         \\\\\n",
       "\t 2016-08-01 & 10100      & 426641.38  &  95473.72  &  331167.66 & 0          & 76         & E          &  19636.03  & 0         \\\\\n",
       "\t 2016-09-01 & 10100      & 777713.74  & 431493.62  &  346220.12 & 0          & 76         & E          &  29675.60  & 0         \\\\\n",
       "\t 2016-10-01 & 10100      & 354173.78  & 142857.63  &  211316.15 & 0          & 76         & E          &  11750.48  & 0         \\\\\n",
       "\t 2016-11-01 & 10100      & 205451.94  & 394571.60  & -189119.66 & 1          & 76         & E          & -15348.59  & 0         \\\\\n",
       "\t 2016-12-01 & 10100      &  49645.70  & 464544.08  & -414898.38 & 1          & 76         & E          & -33960.95  & 0         \\\\\n",
       "\\end{tabular}\n"
      ],
      "text/markdown": [
       "\n",
       "| Date | CompanyID | Revenue | Expenses | Profit | LossFlag | Employees | Region | BusinessValuation | ClosedFlag |\n",
       "|---|---|---|---|---|---|---|---|---|---|\n",
       "| 2016-01-01 | 10001      | 690710.54  | 399434.31  |  291276.23 | 0          | 34         | B          |  29038.29  | 0          |\n",
       "| 2016-02-01 | 10001      | 218199.33  | 357003.28  | -138803.95 | 1          | 34         | B          |  -5387.12  | 0          |\n",
       "| 2016-03-01 | 10001      | 887134.93  |        NA  |  723422.46 | 0          | 34         | B          |  44855.67  | 0          |\n",
       "| 2016-04-01 | 10001      | 505122.23  | 168801.52  |  336320.71 | 0          | 34         | B          |  28444.62  | 0          |\n",
       "| 2016-05-01 | 10001      | 312168.56  | 417686.14  | -105517.58 | 1          | 34         | B          |  -7074.53  | 0          |\n",
       "| 2016-06-01 | 10001      |  43971.11  | 160718.63  | -116747.52 | 1          | 34         | B          |  -8930.43  | 0          |\n",
       "| 2016-07-01 | 10001      | 972983.26  | 149589.18  |  823394.08 | 0          | 34         | B          |  56004.82  | 0          |\n",
       "| 2016-08-01 | 10001      | 107875.96  |    863.45  |  107012.51 | 0          | 34         | B          |   9702.38  | 0          |\n",
       "| 2016-09-01 | 10001      | 292321.96  | 179847.88  |  112474.08 | 0          | 34         | B          |   8319.22  | 0          |\n",
       "| 2016-10-01 | 10001      | 733022.87  | 382622.34  |  350400.53 | 0          | 34         | B          |  17880.02  | 0          |\n",
       "| 2016-11-01 | 10001      |   1858.79  | 130670.42  | -128811.63 | 1          | 34         | B          | -10922.35  | 0          |\n",
       "| 2016-12-01 | 10001      | 742680.68  |  22836.84  |  719843.84 | 0          | 34         | B          |  59778.32  | 0          |\n",
       "| 2016-01-01 | 10002      | 736417.27  |        NA  |  257008.42 | 0          | 96         | E          |  19351.25  | 0          |\n",
       "| 2016-02-01 | 10002      | 477039.85  | 172391.64  |  304648.21 | 0          | 96         | E          |  25219.45  | 0          |\n",
       "| 2016-03-01 | 10002      | 618509.39  |  64529.19  |  553980.20 | 0          | 96         | E          |  34349.41  | 0          |\n",
       "| 2016-04-01 | 10002      | 478659.86  | 289660.71  |  188999.15 | 0          | 96         | E          |  15080.97  | 0          |\n",
       "| 2016-05-01 | 10002      | 497948.59  |  57241.11  |  440707.48 | 0          | 96         | E          |  25535.22  | 0          |\n",
       "| 2016-06-01 | 10002      | 913915.06  | 368414.44  |  545500.62 | 0          | 96         | E          |  30445.02  | 0          |\n",
       "| 2016-07-01 | 10002      | 193809.04  | 288166.72  |  -94357.68 | 1          | 96         | E          |  -4883.73  | 0          |\n",
       "| 2016-08-01 | 10002      | 521883.74  |  72781.32  |  449102.42 | NA         | 96         | E          |  14270.07  | 0          |\n",
       "| 2016-09-01 | 10002      |  78631.27  | 349126.44  | -270495.17 | 1          | 96         | E          |  -9177.86  | 0          |\n",
       "| 2016-10-01 | 10002      | 265480.14  | 300750.39  |  -35270.25 | 1          | 96         | E          |  -3309.11  | 0          |\n",
       "| 2016-11-01 | 10002      | 647594.40  | 248568.26  |  399026.14 | 0          | 96         | E          |  28791.78  | 0          |\n",
       "| 2016-12-01 | 10002      | 469845.40  | 350656.37  |  119189.03 | 0          | 96         | E          |   5417.67  | 0          |\n",
       "| 2016-01-01 | 10003      | 921729.69  | 327986.99  |  593742.70 | 0          | 30         | A          |  56136.28  | 0          |\n",
       "| 2016-02-01 | 10003      | 191115.44  | 359192.77  | -168077.33 | 1          | 30         | A          |  -8534.32  | 0          |\n",
       "| 2016-03-01 | 10003      | 630893.35  | 148237.84  |  482655.51 | 0          | 30         | A          |  46943.67  | 0          |\n",
       "| 2016-04-01 | 10003      | 213723.49  | 464595.23  | -250871.74 | 1          | 30         | A          | -11606.15  | 0          |\n",
       "| 2016-05-01 | 10003      | 480110.56  |  95787.27  |  384323.29 | 0          | 30         | A          |  14124.70  | 0          |\n",
       "| 2016-06-01 | 10003      | 153774.76  | 490957.24  | -337182.48 | 1          | 30         | A          | -16510.47  | 0          |\n",
       "| ... | ... | ... | ... | ... | ... | ... | ... | ... | ... |\n",
       "| 2016-07-01 | 10098      | 600680.47  | 169650.21  |  431030.26 | 0          | 91         | E          |  20983.91  | 0          |\n",
       "| 2016-08-01 | 10098      | 411399.65  | 260454.99  |  150944.66 | 0          | 91         | E          |  10547.34  | 0          |\n",
       "| 2016-09-01 | 10098      | 122490.08  | 347915.94  | -225425.86 | 1          | 91         | E          | -13151.78  | 0          |\n",
       "| 2016-10-01 | 10098      | 784594.35  | 472160.51  |  312433.84 | 0          | 91         | E          |  18432.02  | 0          |\n",
       "| 2016-11-01 | 10098      | 848360.21  | 211058.36  |  637301.85 | 0          | 91         | E          |  63102.06  | 0          |\n",
       "| 2016-12-01 | 10098      | 661380.94  | 423121.19  |  238259.75 | 0          | 91         | E          |   8523.79  | 0          |\n",
       "| 2016-01-01 | 10099      | 955353.22  |  87391.21  |  867962.01 | 0          | 96         | E          |  56325.86  | 0          |\n",
       "| 2016-02-01 | 10099      | 156940.38  |  22113.70  |  134826.68 | 0          | 96         | E          |   8219.80  | 0          |\n",
       "| 2016-03-01 | 10099      | 340248.38  | 204429.79  |  135818.59 | 0          | 96         | E          |   9947.56  | 0          |\n",
       "| 2016-04-01 | 10099      | 346051.63  |  27835.58  |  318216.05 | 0          | 96         | E          |  19150.48  | 0          |\n",
       "| 2016-05-01 | 10099      | 809417.23  | 415076.25  |  394340.98 | 0          | 96         | E          |  13491.23  | 0          |\n",
       "| 2016-06-01 | 10099      | 730618.63  | 439890.36  |  290728.27 | 0          | 96         | E          |  10343.85  | 0          |\n",
       "| 2016-07-01 | 10099      |   3623.25  | 343599.27  | -339976.02 | 1          | 96         | E          | -16288.28  | 0          |\n",
       "| 2016-08-01 | 10099      | 998392.78  | 124303.36  |  874089.42 | 0          | 96         | E          |  55306.68  | 0          |\n",
       "| 2016-09-01 | 10099      | 723511.19  | 368121.65  |  355389.54 | 0          | 96         | E          |  13649.69  | 0          |\n",
       "| 2016-10-01 | 10099      | 674355.85  | 226163.58  |  448192.27 | 0          | 96         | E          |  42287.77  | 0          |\n",
       "| 2016-11-01 | 10099      | 320521.39  | 277415.80  |   43105.59 | 0          | 96         | E          |   1648.17  | 0          |\n",
       "| 2016-12-01 | 10099      | 441443.72  | 224379.63  |  217064.09 | 0          | 96         | E          |  17929.92  | 0          |\n",
       "| 2016-01-01 | 10100      | 217597.81  | 290728.59  |  -73130.78 | 1          | 76         | E          |  -4692.92  | 0          |\n",
       "| 2016-02-01 | 10100      | 458927.41  | 368942.86  |   89984.55 | 0          | 76         | E          |   8405.54  | 0          |\n",
       "| 2016-03-01 | 10100      | 968099.12  |   7011.50  |  961087.62 | 0          | 76         | E          |  94774.63  | 0          |\n",
       "| 2016-04-01 | 10100      | 615242.98  |  19377.88  |  595865.10 | 0          | 76         | E          |  21928.95  | 0          |\n",
       "| 2016-05-01 | 10100      | 672445.53  |  20918.11  |  651527.42 | 0          | 76         | E          |  54535.82  | 0          |\n",
       "| 2016-06-01 | 10100      | 722783.79  | 382939.95  |  339843.84 | 0          | 76         | E          |  18095.32  | 0          |\n",
       "| 2016-07-01 | 10100      | 753580.03  | 385906.99  |  367673.04 | 0          | 76         | E          |  23267.19  | 0          |\n",
       "| 2016-08-01 | 10100      | 426641.38  |  95473.72  |  331167.66 | 0          | 76         | E          |  19636.03  | 0          |\n",
       "| 2016-09-01 | 10100      | 777713.74  | 431493.62  |  346220.12 | 0          | 76         | E          |  29675.60  | 0          |\n",
       "| 2016-10-01 | 10100      | 354173.78  | 142857.63  |  211316.15 | 0          | 76         | E          |  11750.48  | 0          |\n",
       "| 2016-11-01 | 10100      | 205451.94  | 394571.60  | -189119.66 | 1          | 76         | E          | -15348.59  | 0          |\n",
       "| 2016-12-01 | 10100      |  49645.70  | 464544.08  | -414898.38 | 1          | 76         | E          | -33960.95  | 0          |\n",
       "\n"
      ],
      "text/plain": [
       "     Date       CompanyID Revenue   Expenses  Profit     LossFlag Employees\n",
       "1    2016-01-01 10001     690710.54 399434.31  291276.23 0        34       \n",
       "2    2016-02-01 10001     218199.33 357003.28 -138803.95 1        34       \n",
       "3    2016-03-01 10001     887134.93        NA  723422.46 0        34       \n",
       "4    2016-04-01 10001     505122.23 168801.52  336320.71 0        34       \n",
       "5    2016-05-01 10001     312168.56 417686.14 -105517.58 1        34       \n",
       "6    2016-06-01 10001      43971.11 160718.63 -116747.52 1        34       \n",
       "7    2016-07-01 10001     972983.26 149589.18  823394.08 0        34       \n",
       "8    2016-08-01 10001     107875.96    863.45  107012.51 0        34       \n",
       "9    2016-09-01 10001     292321.96 179847.88  112474.08 0        34       \n",
       "10   2016-10-01 10001     733022.87 382622.34  350400.53 0        34       \n",
       "11   2016-11-01 10001       1858.79 130670.42 -128811.63 1        34       \n",
       "12   2016-12-01 10001     742680.68  22836.84  719843.84 0        34       \n",
       "13   2016-01-01 10002     736417.27        NA  257008.42 0        96       \n",
       "14   2016-02-01 10002     477039.85 172391.64  304648.21 0        96       \n",
       "15   2016-03-01 10002     618509.39  64529.19  553980.20 0        96       \n",
       "16   2016-04-01 10002     478659.86 289660.71  188999.15 0        96       \n",
       "17   2016-05-01 10002     497948.59  57241.11  440707.48 0        96       \n",
       "18   2016-06-01 10002     913915.06 368414.44  545500.62 0        96       \n",
       "19   2016-07-01 10002     193809.04 288166.72  -94357.68 1        96       \n",
       "20   2016-08-01 10002     521883.74  72781.32  449102.42 NA       96       \n",
       "21   2016-09-01 10002      78631.27 349126.44 -270495.17 1        96       \n",
       "22   2016-10-01 10002     265480.14 300750.39  -35270.25 1        96       \n",
       "23   2016-11-01 10002     647594.40 248568.26  399026.14 0        96       \n",
       "24   2016-12-01 10002     469845.40 350656.37  119189.03 0        96       \n",
       "25   2016-01-01 10003     921729.69 327986.99  593742.70 0        30       \n",
       "26   2016-02-01 10003     191115.44 359192.77 -168077.33 1        30       \n",
       "27   2016-03-01 10003     630893.35 148237.84  482655.51 0        30       \n",
       "28   2016-04-01 10003     213723.49 464595.23 -250871.74 1        30       \n",
       "29   2016-05-01 10003     480110.56  95787.27  384323.29 0        30       \n",
       "30   2016-06-01 10003     153774.76 490957.24 -337182.48 1        30       \n",
       "...  ...        ...       ...       ...       ...        ...      ...      \n",
       "1171 2016-07-01 10098     600680.47 169650.21  431030.26 0        91       \n",
       "1172 2016-08-01 10098     411399.65 260454.99  150944.66 0        91       \n",
       "1173 2016-09-01 10098     122490.08 347915.94 -225425.86 1        91       \n",
       "1174 2016-10-01 10098     784594.35 472160.51  312433.84 0        91       \n",
       "1175 2016-11-01 10098     848360.21 211058.36  637301.85 0        91       \n",
       "1176 2016-12-01 10098     661380.94 423121.19  238259.75 0        91       \n",
       "1177 2016-01-01 10099     955353.22  87391.21  867962.01 0        96       \n",
       "1178 2016-02-01 10099     156940.38  22113.70  134826.68 0        96       \n",
       "1179 2016-03-01 10099     340248.38 204429.79  135818.59 0        96       \n",
       "1180 2016-04-01 10099     346051.63  27835.58  318216.05 0        96       \n",
       "1181 2016-05-01 10099     809417.23 415076.25  394340.98 0        96       \n",
       "1182 2016-06-01 10099     730618.63 439890.36  290728.27 0        96       \n",
       "1183 2016-07-01 10099       3623.25 343599.27 -339976.02 1        96       \n",
       "1184 2016-08-01 10099     998392.78 124303.36  874089.42 0        96       \n",
       "1185 2016-09-01 10099     723511.19 368121.65  355389.54 0        96       \n",
       "1186 2016-10-01 10099     674355.85 226163.58  448192.27 0        96       \n",
       "1187 2016-11-01 10099     320521.39 277415.80   43105.59 0        96       \n",
       "1188 2016-12-01 10099     441443.72 224379.63  217064.09 0        96       \n",
       "1189 2016-01-01 10100     217597.81 290728.59  -73130.78 1        76       \n",
       "1190 2016-02-01 10100     458927.41 368942.86   89984.55 0        76       \n",
       "1191 2016-03-01 10100     968099.12   7011.50  961087.62 0        76       \n",
       "1192 2016-04-01 10100     615242.98  19377.88  595865.10 0        76       \n",
       "1193 2016-05-01 10100     672445.53  20918.11  651527.42 0        76       \n",
       "1194 2016-06-01 10100     722783.79 382939.95  339843.84 0        76       \n",
       "1195 2016-07-01 10100     753580.03 385906.99  367673.04 0        76       \n",
       "1196 2016-08-01 10100     426641.38  95473.72  331167.66 0        76       \n",
       "1197 2016-09-01 10100     777713.74 431493.62  346220.12 0        76       \n",
       "1198 2016-10-01 10100     354173.78 142857.63  211316.15 0        76       \n",
       "1199 2016-11-01 10100     205451.94 394571.60 -189119.66 1        76       \n",
       "1200 2016-12-01 10100      49645.70 464544.08 -414898.38 1        76       \n",
       "     Region BusinessValuation ClosedFlag\n",
       "1    B       29038.29         0         \n",
       "2    B       -5387.12         0         \n",
       "3    B       44855.67         0         \n",
       "4    B       28444.62         0         \n",
       "5    B       -7074.53         0         \n",
       "6    B       -8930.43         0         \n",
       "7    B       56004.82         0         \n",
       "8    B        9702.38         0         \n",
       "9    B        8319.22         0         \n",
       "10   B       17880.02         0         \n",
       "11   B      -10922.35         0         \n",
       "12   B       59778.32         0         \n",
       "13   E       19351.25         0         \n",
       "14   E       25219.45         0         \n",
       "15   E       34349.41         0         \n",
       "16   E       15080.97         0         \n",
       "17   E       25535.22         0         \n",
       "18   E       30445.02         0         \n",
       "19   E       -4883.73         0         \n",
       "20   E       14270.07         0         \n",
       "21   E       -9177.86         0         \n",
       "22   E       -3309.11         0         \n",
       "23   E       28791.78         0         \n",
       "24   E        5417.67         0         \n",
       "25   A       56136.28         0         \n",
       "26   A       -8534.32         0         \n",
       "27   A       46943.67         0         \n",
       "28   A      -11606.15         0         \n",
       "29   A       14124.70         0         \n",
       "30   A      -16510.47         0         \n",
       "...  ...    ...               ...       \n",
       "1171 E       20983.91         0         \n",
       "1172 E       10547.34         0         \n",
       "1173 E      -13151.78         0         \n",
       "1174 E       18432.02         0         \n",
       "1175 E       63102.06         0         \n",
       "1176 E        8523.79         0         \n",
       "1177 E       56325.86         0         \n",
       "1178 E        8219.80         0         \n",
       "1179 E        9947.56         0         \n",
       "1180 E       19150.48         0         \n",
       "1181 E       13491.23         0         \n",
       "1182 E       10343.85         0         \n",
       "1183 E      -16288.28         0         \n",
       "1184 E       55306.68         0         \n",
       "1185 E       13649.69         0         \n",
       "1186 E       42287.77         0         \n",
       "1187 E        1648.17         0         \n",
       "1188 E       17929.92         0         \n",
       "1189 E       -4692.92         0         \n",
       "1190 E        8405.54         0         \n",
       "1191 E       94774.63         0         \n",
       "1192 E       21928.95         0         \n",
       "1193 E       54535.82         0         \n",
       "1194 E       18095.32         0         \n",
       "1195 E       23267.19         0         \n",
       "1196 E       19636.03         0         \n",
       "1197 E       29675.60         0         \n",
       "1198 E       11750.48         0         \n",
       "1199 E      -15348.59         0         \n",
       "1200 E      -33960.95         0         "
      ]
     },
     "metadata": {},
     "output_type": "display_data"
    }
   ],
   "source": [
    "ArtificialDataset"
   ]
  },
  {
   "cell_type": "code",
   "execution_count": 33,
   "metadata": {},
   "outputs": [
    {
     "name": "stdout",
     "output_type": "stream",
     "text": [
      "'data.frame':\t1200 obs. of  10 variables:\n",
      " $ Date             : Date, format: \"2016-01-01\" \"2016-02-01\" ...\n",
      " $ CompanyID        : Factor w/ 100 levels \"10001\",\"10002\",..: 1 1 1 1 1 1 1 1 1 1 ...\n",
      " $ Revenue          : num  690711 218199 887135 505122 312169 ...\n",
      " $ Expenses         : num  399434 357003 NA 168802 417686 ...\n",
      " $ Profit           : num  291276 -138804 723422 336321 -105518 ...\n",
      " $ LossFlag         : Factor w/ 2 levels \"0\",\"1\": 1 2 1 1 2 2 1 1 1 1 ...\n",
      " $ Employees        : num  34 34 34 34 34 34 34 34 34 34 ...\n",
      " $ Region           : Factor w/ 5 levels \"A\",\"B\",\"C\",\"D\",..: 2 2 2 2 2 2 2 2 2 2 ...\n",
      " $ BusinessValuation: num  29038 -5387 44856 28445 -7075 ...\n",
      " $ ClosedFlag       : Factor w/ 2 levels \"0\",\"1\": 1 1 1 1 1 1 1 1 1 1 ...\n"
     ]
    },
    {
     "data": {
      "text/plain": [
       "      Date              CompanyID       Revenue            Expenses       \n",
       " Min.   :2016-01-01   10001  :  12   Min.   :   525.1   Min.   :   863.5  \n",
       " 1st Qu.:2016-03-24   10002  :  12   1st Qu.:259395.6   1st Qu.:130226.8  \n",
       " Median :2016-06-16   10003  :  12   Median :507714.4   Median :259458.4  \n",
       " Mean   :2016-06-16   10004  :  12   Mean   :508061.0   Mean   :254673.2  \n",
       " 3rd Qu.:2016-09-08   10005  :  12   3rd Qu.:759357.1   3rd Qu.:381613.0  \n",
       " Max.   :2016-12-01   10006  :  12   Max.   :999428.7   Max.   :499749.5  \n",
       "                      (Other):1128   NA's   :12         NA's   :12        \n",
       "     Profit        LossFlag     Employees      Region  BusinessValuation  \n",
       " Min.   :-452175   0   :890   Min.   : 11.00   A:300   Min.   :-40385.25  \n",
       " 1st Qu.:   4218   1   :298   1st Qu.: 25.50   B:240   1st Qu.:    98.57  \n",
       " Median : 255008   NA's: 12   Median : 55.00   C:156   Median : 14738.09  \n",
       " Mean   : 253440              Mean   : 53.45   D: 60   Mean   : 16238.44  \n",
       " 3rd Qu.: 498591              3rd Qu.: 78.00   E:444   3rd Qu.: 29780.44  \n",
       " Max.   : 986410              Max.   :100.00           Max.   : 94774.63  \n",
       " NA's   :12                                                               \n",
       " ClosedFlag\n",
       " 0:1152    \n",
       " 1:  48    \n",
       "           \n",
       "           \n",
       "           \n",
       "           \n",
       "           "
      ]
     },
     "metadata": {},
     "output_type": "display_data"
    }
   ],
   "source": [
    "str(ArtificialDataset)\n",
    "summary(ArtificialDataset)"
   ]
  },
  {
   "cell_type": "markdown",
   "metadata": {},
   "source": [
    "<h2> 6. Exporting the ArtificialDataset </h2>"
   ]
  },
  {
   "cell_type": "code",
   "execution_count": 34,
   "metadata": {},
   "outputs": [],
   "source": [
    "write.csv(ArtificialDataset, file = \"ArtificialDataset.csv\", row.names = FALSE)"
   ]
  }
 ],
 "metadata": {
  "kernelspec": {
   "display_name": "R",
   "language": "R",
   "name": "ir"
  },
  "language_info": {
   "codemirror_mode": "r",
   "file_extension": ".r",
   "mimetype": "text/x-r-source",
   "name": "R",
   "pygments_lexer": "r",
   "version": "3.6.0"
  }
 },
 "nbformat": 4,
 "nbformat_minor": 2
}
